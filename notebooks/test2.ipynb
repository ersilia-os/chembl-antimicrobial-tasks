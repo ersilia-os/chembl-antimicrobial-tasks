{
 "cells": [
  {
   "cell_type": "code",
   "execution_count": 1,
   "id": "e7c348a5",
   "metadata": {},
   "outputs": [],
   "source": [
    "from collections import Counter\n",
    "from tqdm import tqdm\n",
    "import pandas as pd\n",
    "import numpy as np\n",
    "import os\n",
    "import re\n",
    "\n",
    "pd.set_option(\"display.max_columns\", 100)"
   ]
  },
  {
   "cell_type": "code",
   "execution_count": 2,
   "id": "6654c9cd",
   "metadata": {},
   "outputs": [],
   "source": [
    "# Load activities\n",
    "root = '.'\n",
    "activities_all_raw = pd.read_csv(os.path.join(root, \"..\", \"config\", \"chembl_processed\", \"activities_all_raw.csv\"), low_memory=False)"
   ]
  },
  {
   "cell_type": "code",
   "execution_count": 3,
   "id": "e113deeb",
   "metadata": {},
   "outputs": [],
   "source": [
    "# 1. Flagging activity comments\n",
    "activity_comments_bin = pd.read_csv(os.path.join(root, \"..\", \"config\", \"manual_curation\", \"activity_comments_manual_curation.csv\"), low_memory=False)\n",
    "activity_comments_act = set(activity_comments_bin[activity_comments_bin['manual_curation'] == 1]['activity_comment'])\n",
    "activity_comments_inact = set(activity_comments_bin[activity_comments_bin['manual_curation'] == -1]['activity_comment'])\n",
    "\n",
    "# 2. Flagging standard text\n",
    "standard_text_bin = pd.read_csv(os.path.join(root, \"..\", \"config\", \"manual_curation\", \"standard_text_manual_curation.csv\"), low_memory=False)\n",
    "standard_text_act = set(standard_text_bin[standard_text_bin['manual_curation'] == 1]['standard_text_value'])\n",
    "standard_text_inact = set(standard_text_bin[standard_text_bin['manual_curation'] == -1]['standard_text_value'])\n",
    "\n",
    "# 3. Unit conversion\n",
    "unit_conversion = pd.read_csv(os.path.join(root, \"..\", \"config\", \"chembl_processed\", \"unit_conversion.csv\"))\n",
    "standard_unit_to_final_unit = {i: j for i,j in zip(unit_conversion['standard_units'], unit_conversion['final_unit'])}\n",
    "standard_unit_to_conversion_formula = {i: j for i,j in zip(unit_conversion['standard_units'], unit_conversion['conversion_formula'])}\n",
    "\n",
    "# X. pChEMBL calculation\n",
    "def calculate_pchembl(uM):\n",
    "    try:\n",
    "        value = uM * 1e-6\n",
    "        pchembl_value = np.clip(-np.log10(value), 1, 9)\n",
    "        return pchembl_value\n",
    "    except:\n",
    "        return np.nan\n",
    "\n",
    "# X. Relations py dict\n",
    "RELATIONS = {\"=\": \"=\",\n",
    "             \">\": \">\",\n",
    "             \"<\": \"<\",\n",
    "             \">>\": \">\",\n",
    "             \">=\": \">\",\n",
    "             \"<<\": \"<\",\n",
    "             \"<=\": \"<\",\n",
    "             np.nan: \"=\",\n",
    "             \"~\": \"=\"}\n",
    "\n",
    "def convert_relation(i, RELATIONS):\n",
    "    return RELATIONS[i]"
   ]
  },
  {
   "cell_type": "code",
   "execution_count": 4,
   "id": "faec154e",
   "metadata": {},
   "outputs": [
    {
     "name": "stdout",
     "output_type": "stream",
     "text": [
      "Cleaning activity comments...\n"
     ]
    },
    {
     "name": "stderr",
     "output_type": "stream",
     "text": [
      "100%|██████████| 24267312/24267312 [00:05<00:00, 4291451.15it/s]\n"
     ]
    },
    {
     "name": "stdout",
     "output_type": "stream",
     "text": [
      "New activity comments: {0: 20359186, -1: 3267587, 1: 640539}\n"
     ]
    }
   ],
   "source": [
    "# 1. Cleaning activity comments\n",
    "print(\"Cleaning activity comments...\")\n",
    "NEW_ACTIVITY_COMMENT = []\n",
    "for act_comment in tqdm(activities_all_raw['activity_comment']):\n",
    "    if str(act_comment) == 'nan':\n",
    "        NEW_ACTIVITY_COMMENT.append(0)\n",
    "    elif act_comment in activity_comments_act:\n",
    "        NEW_ACTIVITY_COMMENT.append(1)\n",
    "    elif act_comment in activity_comments_inact:\n",
    "        NEW_ACTIVITY_COMMENT.append(-1)\n",
    "    else:\n",
    "        NEW_ACTIVITY_COMMENT.append(0)\n",
    "\n",
    "activities_all_raw['new_activity_comment'] = NEW_ACTIVITY_COMMENT\n",
    "print(f\"New activity comments: {dict(Counter(activities_all_raw['new_activity_comment']))}\")"
   ]
  },
  {
   "cell_type": "code",
   "execution_count": 5,
   "id": "6211de17",
   "metadata": {},
   "outputs": [
    {
     "name": "stdout",
     "output_type": "stream",
     "text": [
      "Cleaning standard text...\n"
     ]
    },
    {
     "name": "stderr",
     "output_type": "stream",
     "text": [
      "100%|██████████| 24267312/24267312 [00:05<00:00, 4383954.61it/s]\n"
     ]
    },
    {
     "name": "stdout",
     "output_type": "stream",
     "text": [
      "New standard text: {0: 23963616, 1: 31764, -1: 271932}\n"
     ]
    }
   ],
   "source": [
    "# 2. Cleaning standard text\n",
    "print(\"Cleaning standard text...\")\n",
    "NEW_STANDARD_TEXT = []\n",
    "for std_text_value in tqdm(activities_all_raw['standard_text_value']):\n",
    "    if str(std_text_value) == 'nan':\n",
    "        NEW_STANDARD_TEXT.append(0)\n",
    "    elif std_text_value in standard_text_act:\n",
    "        NEW_STANDARD_TEXT.append(1)\n",
    "    elif std_text_value in standard_text_inact:\n",
    "        NEW_STANDARD_TEXT.append(-1)\n",
    "    else:\n",
    "        NEW_STANDARD_TEXT.append(0)\n",
    "\n",
    "activities_all_raw['new_standard_text_value'] = NEW_STANDARD_TEXT\n",
    "print(f\"New standard text: {dict(Counter(activities_all_raw['new_standard_text_value']))}\")"
   ]
  },
  {
   "cell_type": "code",
   "execution_count": 6,
   "id": "6ff971df",
   "metadata": {},
   "outputs": [
    {
     "name": "stdout",
     "output_type": "stream",
     "text": [
      "Harmonizing units and converting values\n"
     ]
    },
    {
     "name": "stderr",
     "output_type": "stream",
     "text": [
      "100%|██████████| 24267312/24267312 [01:28<00:00, 274810.84it/s]\n"
     ]
    }
   ],
   "source": [
    "# 3. Harmonizing units and values\n",
    "NEW_VALUES, NEW_UNITS = [], []\n",
    "print(\"Harmonizing units and converting values\")\n",
    "for mw, std_value, std_unit in tqdm(activities_all_raw[['MW', 'standard_value', 'standard_units']].values):\n",
    "\n",
    "    # Get conversion formula\n",
    "    if std_unit in standard_unit_to_conversion_formula:\n",
    "        conversion_formula = standard_unit_to_conversion_formula[std_unit]\n",
    "    else:\n",
    "        # Only when std_unit is nan\n",
    "        conversion_formula = np.nan\n",
    "\n",
    "    # Get final_unit\n",
    "    if std_unit in standard_unit_to_final_unit:\n",
    "        final_unit = standard_unit_to_final_unit[std_unit]\n",
    "    else:\n",
    "        # Only when std_unit is nan\n",
    "        final_unit = np.nan\n",
    "    NEW_UNITS.append(final_unit)\n",
    "\n",
    "    # Get new value\n",
    "    if str(std_value) != 'nan':\n",
    "        if str(conversion_formula) != 'nan':\n",
    "            data = {'standard_value': std_value, 'molecular_weight': mw}\n",
    "            new_value = eval(conversion_formula, data)\n",
    "            NEW_VALUES.append(new_value)\n",
    "        else:\n",
    "            NEW_VALUES.append(std_value)\n",
    "    else:\n",
    "        NEW_VALUES.append(np.nan)\n",
    "\n",
    "# Save in df\n",
    "activities_all_raw['converted_values'] = NEW_VALUES\n",
    "activities_all_raw['converted_units'] = NEW_UNITS"
   ]
  },
  {
   "cell_type": "code",
   "execution_count": 7,
   "id": "b7c29bcf",
   "metadata": {},
   "outputs": [],
   "source": [
    "# Saving CSV file with converted units and values\n",
    "d = dict(Counter(activities_all_raw['converted_units']))\n",
    "df = [[unit, d[unit]] for unit in sorted(d, key=lambda x: d[x])[::-1]]\n",
    "df = pd.DataFrame(df, columns=['unit', 'count'])\n",
    "total_count = np.sum(df['count'])\n",
    "df['cumulative_prop'] = (df['count'].cumsum() / total_count).round(3)\n",
    "df.to_csv(os.path.join(root, \"..\", \"config\", \"chembl_processed\", \"converted_units.csv\"), index=False)"
   ]
  },
  {
   "cell_type": "code",
   "execution_count": 8,
   "id": "91d7d291",
   "metadata": {},
   "outputs": [],
   "source": [
    "# Dict mapping old units with new units\n",
    "new_unit_to_old_units = {i: set() for i in set(NEW_UNITS)}\n",
    "for i,j in zip(activities_all_raw['converted_units'], activities_all_raw['standard_units']):\n",
    "    new_unit_to_old_units[i].add(j)\n",
    "\n",
    "df = [[unit, len(new_unit_to_old_units[unit]), \" ; \".join([str(k) for k in new_unit_to_old_units[unit]])] \n",
    "      for unit in sorted(new_unit_to_old_units, key=lambda x: len(new_unit_to_old_units[x]))[::-1]]\n",
    "df = pd.DataFrame(df, columns=['unit', 'count', 'old_units'])\n",
    "df.to_csv(os.path.join(root, \"..\", \"config\", \"chembl_processed\", \"converted_units_map.csv\"), index=False)"
   ]
  },
  {
   "cell_type": "code",
   "execution_count": 9,
   "id": "b0c5d26e",
   "metadata": {},
   "outputs": [
    {
     "name": "stderr",
     "output_type": "stream",
     "text": [
      "100%|██████████| 24267312/24267312 [00:16<00:00, 1462484.39it/s]\n"
     ]
    }
   ],
   "source": [
    "# 4. Harmonizing activity types\n",
    "\n",
    "def harmonize_act_type(act_type):\n",
    "    return re.sub(r\"[_\\s./\\\\]\", \"\", str(act_type).upper().strip())\n",
    "\n",
    "# # From harmonized types to types and viceversa\n",
    "# types = Counter(activities_all_raw['standard_type'])\n",
    "# harmonized_types = {harmonize_act_type(i): set() for i in types}\n",
    "# for ty in types:\n",
    "#     harmonized_types[harmonize_act_type(ty)].add(ty)\n",
    "\n",
    "HARMONIZED_TYPES = [harmonize_act_type(i) for i in tqdm(activities_all_raw['standard_type'])]\n",
    "activities_all_raw['harmonized_type'] = HARMONIZED_TYPES\n",
    "\n",
    "harmonized_types_to_types = {i: set() for i in set(HARMONIZED_TYPES)}\n",
    "for ty, harm_ty in zip(activities_all_raw['standard_type'], activities_all_raw['harmonized_type']):\n",
    "    harmonized_types_to_types[harm_ty].add(ty)"
   ]
  },
  {
   "cell_type": "code",
   "execution_count": 10,
   "id": "28512aad",
   "metadata": {},
   "outputs": [
    {
     "data": {
      "text/plain": [
       "(6449, 6068)"
      ]
     },
     "execution_count": 10,
     "metadata": {},
     "output_type": "execute_result"
    }
   ],
   "source": [
    "len(set(activities_all_raw['standard_type'])), len(set(activities_all_raw['harmonized_type']))"
   ]
  },
  {
   "cell_type": "code",
   "execution_count": 11,
   "id": "4282352a",
   "metadata": {},
   "outputs": [
    {
     "data": {
      "text/plain": [
       "[['PKB', 7, ['PKB', 'PKb', 'PkB', 'pKB', 'pKb', 'pkB', 'pkb']],\n",
       " ['PKA', 5, ['PKa', 'Pka', 'pKA', 'pKa', 'pka']],\n",
       " ['DELTATM', 5, ['Delta TM', 'Delta Tm', 'DeltaTm', 'delta Tm', 'deltaTm']],\n",
       " ['ACTIVITY',\n",
       "  5,\n",
       "  ['A ctivity', 'Activ ity', 'Activit y', 'Activity', 'activity']],\n",
       " [\"LOGK'W\", 4, [\"Log K'W\", \"Log K'w\", \"Log k' w\", \"Log k'w\"]],\n",
       " ['KB', 4, ['K B', 'KB', 'Kb', 'kb']],\n",
       " ['KR', 4, ['KR', 'Kr', 'kR', 'kr']],\n",
       " ['KACT', 4, ['K ACT', 'K act', 'Kact', 'k act']],\n",
       " ['2XAPTT', 4, ['2 x APTT', '2x APTT', '2x aPTT', '2xAPTT']],\n",
       " ['DELTAT', 4, ['Delta T', 'Delta t', 'delta T', 'deltaT']],\n",
       " ['KA', 4, ['K A', 'KA', 'Ka', 'ka']],\n",
       " ['LOGKA', 4, ['Log KA', 'Log Ka', 'logKA', 'logKa']],\n",
       " ['KH', 4, ['K H', 'KH', 'Kh', 'kH']],\n",
       " ['KBAPP', 4, ['K Bapp', 'KB app', 'Kb app', 'Kbapp']],\n",
       " ['KOBS', 4, ['K obs', 'Kobs', 'k_obs', 'kobs']]]"
      ]
     },
     "execution_count": 11,
     "metadata": {},
     "output_type": "execute_result"
    }
   ],
   "source": [
    "sorted([[i, len(harmonized_types_to_types[i]), sorted(harmonized_types_to_types[i])] for i in harmonized_types_to_types], key = lambda x: x[1])[::-1][:15]"
   ]
  },
  {
   "cell_type": "code",
   "execution_count": 12,
   "id": "6e60024a",
   "metadata": {},
   "outputs": [
    {
     "name": "stdout",
     "output_type": "stream",
     "text": [
      "Cleaning relations...\n"
     ]
    },
    {
     "name": "stderr",
     "output_type": "stream",
     "text": [
      "100%|██████████| 24267312/24267312 [00:03<00:00, 6204883.68it/s]\n"
     ]
    },
    {
     "name": "stdout",
     "output_type": "stream",
     "text": [
      "{'=': 22283277, '<': 374796, '>': 1609239}\n"
     ]
    }
   ],
   "source": [
    "# 5. Clean relations\n",
    "print(\"Cleaning relations...\")\n",
    "activities_all_raw[\"standard_relation\"] = [convert_relation(i, RELATIONS) for i in tqdm(activities_all_raw[\"standard_relation\"])]\n",
    "print(dict(Counter(activities_all_raw['standard_relation'])))"
   ]
  },
  {
   "cell_type": "code",
   "execution_count": 13,
   "id": "200b031c",
   "metadata": {},
   "outputs": [
    {
     "name": "stdout",
     "output_type": "stream",
     "text": [
      "Calculating pChEMBL values...\n"
     ]
    },
    {
     "name": "stderr",
     "output_type": "stream",
     "text": [
      "  0%|          | 0/24267312 [00:00<?, ?it/s]/tmp/ipykernel_35957/3980069546.py:20: RuntimeWarning: divide by zero encountered in log10\n",
      "  pchembl_value = np.clip(-np.log10(value), 1, 9)\n",
      "  1%|          | 151957/24267312 [00:00<01:03, 381248.07it/s]/tmp/ipykernel_35957/3980069546.py:20: RuntimeWarning: invalid value encountered in log10\n",
      "  pchembl_value = np.clip(-np.log10(value), 1, 9)\n",
      "100%|██████████| 24267312/24267312 [01:03<00:00, 380096.85it/s] \n"
     ]
    }
   ],
   "source": [
    "# 6. Calculating pChEMBL\n",
    "print(\"Calculating pChEMBL values...\")\n",
    "calculated_pChEMBLs = []\n",
    "for unit, value, pch in tqdm(activities_all_raw[['converted_units', 'converted_values', 'pchembl_value']].values):\n",
    "    if str(value) != 'nan' and unit == \"umol.L-1\":\n",
    "        value = calculate_pchembl(value)\n",
    "        calculated_pChEMBLs.append(value)\n",
    "    else:\n",
    "        calculated_pChEMBLs.append(np.nan)\n",
    "\n",
    "activities_all_raw['calculated_pChEMBLs'] = calculated_pChEMBLs"
   ]
  },
  {
   "cell_type": "code",
   "execution_count": 14,
   "id": "ce3942f9",
   "metadata": {},
   "outputs": [],
   "source": [
    "# del activities_all_raw['standard_relation']\n",
    "# del activities_all_raw['standard_value']\n",
    "# del activities_all_raw['standard_units']\n",
    "# del activities_all_raw['standard_type']\n",
    "# del activities_all_raw['activity_comment']\n",
    "# del activities_all_raw['standard_text_value']\n",
    "\n",
    "activities_all_raw = activities_all_raw.rename(columns={\n",
    "                          \"new_activity_comment\": \"activity_comment\",\n",
    "                          \"new_standard_text_value\": \"standard_text\",\n",
    "                          \"converted_values\": \"value\",\n",
    "                          \"converted_units\": \"unit\",\n",
    "                          \"harmonized_type\": \"activity_type\",\n",
    "                          \"pchembl_value\": \"pchembl\",\n",
    "                          \"calculated_pChEMBLs\": \"pchembl_calculated\"\n",
    "                          })"
   ]
  },
  {
   "cell_type": "code",
   "execution_count": 15,
   "id": "ef259397",
   "metadata": {},
   "outputs": [
    {
     "data": {
      "text/plain": [
       "Counter({'umol.L-1': 4896791})"
      ]
     },
     "execution_count": 15,
     "metadata": {},
     "output_type": "execute_result"
    }
   ],
   "source": [
    "Counter(activities_all_raw[activities_all_raw['pchembl'].isna() == False]['unit'])"
   ]
  },
  {
   "cell_type": "code",
   "execution_count": 26,
   "id": "85baaf6b",
   "metadata": {},
   "outputs": [
    {
     "data": {
      "text/plain": [
       "Counter({'nM': 7669406,\n",
       "         'ug.mL-1': 940031,\n",
       "         'uM': 257124,\n",
       "         'ug ml-1': 76880,\n",
       "         'ng/ml': 7737,\n",
       "         'mM': 7017,\n",
       "         \"10'-2 umol/ml\": 3972,\n",
       "         'mg/dl': 3646,\n",
       "         'M': 2933,\n",
       "         'umol/L': 2467,\n",
       "         'mg/L': 2119,\n",
       "         'ng ml-1': 1965,\n",
       "         'mg/ml': 1053,\n",
       "         'umol/ml': 583,\n",
       "         \"10'-2microM\": 540,\n",
       "         \"10'-2mmol/ml\": 507,\n",
       "         \"10'-3micromol/ml\": 440,\n",
       "         \"10'-2micromol/ml\": 349,\n",
       "         'M l-1': 249,\n",
       "         'mg l-1': 249,\n",
       "         'nmol/ml': 223,\n",
       "         '10^2umol/ml': 192,\n",
       "         \"10'-5M\": 162,\n",
       "         \"10'-8M\": 126,\n",
       "         \"10'-4M\": 112,\n",
       "         'microg/ml': 98,\n",
       "         \"10'3nM\": 49,\n",
       "         \"10'-5 ug/ml\": 46,\n",
       "         \"10'-6 ug/ml\": 38,\n",
       "         'microM': 33,\n",
       "         \"10'-7 ug/ml\": 30,\n",
       "         \"10'-8 ug/ml\": 18,\n",
       "         'umol/uL': 14,\n",
       "         'ug l-1': 12,\n",
       "         '10^-3mM': 8,\n",
       "         '10^-6 uM': 5,\n",
       "         \"10'4pg/ml\": 1})"
      ]
     },
     "execution_count": 26,
     "metadata": {},
     "output_type": "execute_result"
    }
   ],
   "source": [
    "Counter(activities_all_raw[(activities_all_raw['pchembl_calculated'].isna() == False) & (activities_all_raw['pchembl'].isna() == True)]['standard_units'])"
   ]
  },
  {
   "cell_type": "code",
   "execution_count": null,
   "id": "b69cc576",
   "metadata": {},
   "outputs": [],
   "source": []
  },
  {
   "cell_type": "code",
   "execution_count": null,
   "id": "2c0c8442",
   "metadata": {},
   "outputs": [],
   "source": [
    "len(activities_all_raw[activities_all_raw['pchembl_calculated'].isna() == False]) - len(activities_all_raw[activities_all_raw['pchembl'].isna() == False])"
   ]
  },
  {
   "cell_type": "code",
   "execution_count": null,
   "id": "4976dc5d",
   "metadata": {},
   "outputs": [],
   "source": [
    "pchembls = activities_all_raw[activities_all_raw['pchembl'].isna() == False].reset_index(drop=True)"
   ]
  },
  {
   "cell_type": "code",
   "execution_count": null,
   "id": "62a4ba2d",
   "metadata": {},
   "outputs": [],
   "source": [
    "Counter(np.isclose(pchembls['pchembl'], pchembls['pchembl_calculated'], atol = 1))"
   ]
  },
  {
   "cell_type": "code",
   "execution_count": null,
   "id": "7dbb6384",
   "metadata": {},
   "outputs": [],
   "source": [
    "activities_all_raw[activities_all_raw['pchembl'].isna() == False].sort_values('value')"
   ]
  },
  {
   "cell_type": "code",
   "execution_count": null,
   "id": "d49d0c33",
   "metadata": {},
   "outputs": [],
   "source": [
    "activities_all_raw.to_csv(os.path.join(root, \"..\", \"config\", 'chembl_processed', 'activities_preprocessed.csv'), index=False)"
   ]
  },
  {
   "cell_type": "code",
   "execution_count": null,
   "id": "102a7d4a",
   "metadata": {},
   "outputs": [],
   "source": [
    "Counter(activities_all_raw['activity_type'])"
   ]
  },
  {
   "cell_type": "code",
   "execution_count": null,
   "id": "e0aacb1e",
   "metadata": {},
   "outputs": [],
   "source": [
    "d = dict(Counter(activities_all_raw['target_organism']))"
   ]
  },
  {
   "cell_type": "code",
   "execution_count": null,
   "id": "3ebce61a",
   "metadata": {},
   "outputs": [],
   "source": [
    "d"
   ]
  }
 ],
 "metadata": {
  "kernelspec": {
   "display_name": "camt",
   "language": "python",
   "name": "python3"
  },
  "language_info": {
   "codemirror_mode": {
    "name": "ipython",
    "version": 3
   },
   "file_extension": ".py",
   "mimetype": "text/x-python",
   "name": "python",
   "nbconvert_exporter": "python",
   "pygments_lexer": "ipython3",
   "version": "3.10.18"
  }
 },
 "nbformat": 4,
 "nbformat_minor": 5
}
