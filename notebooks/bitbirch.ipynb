{
 "cells": [
  {
   "cell_type": "code",
   "execution_count": 50,
   "id": "ec321348",
   "metadata": {},
   "outputs": [],
   "source": [
    "from collections import Counter\n",
    "import matplotlib.pyplot as plt\n",
    "from tqdm import tqdm\n",
    "import pandas as pd\n",
    "import numpy as np\n",
    "import os"
   ]
  },
  {
   "cell_type": "code",
   "execution_count": 4,
   "id": "0a91a911",
   "metadata": {},
   "outputs": [],
   "source": [
    "root = '.'"
   ]
  },
  {
   "cell_type": "code",
   "execution_count": 5,
   "id": "c9417022",
   "metadata": {},
   "outputs": [
    {
     "name": "stdout",
     "output_type": "stream",
     "text": [
      "Loading ChEMBL preprocessed data...\n",
      "Original size: 24267312\n",
      "Filtering out nan values...\n",
      "Size after filtering nan values: 20911360\n"
     ]
    }
   ],
   "source": [
    "print(\"Loading ChEMBL preprocessed data...\")\n",
    "ChEMBL = pd.read_csv(\"../config/chembl_processed/activities_preprocessed.csv\", low_memory=False)\n",
    "print(f\"Original size: {len(ChEMBL)}\")\n",
    "print(\"Filtering out nan values...\")\n",
    "ChEMBL = ChEMBL[ChEMBL['value'].isna() == False].reset_index(drop=True)\n",
    "print(f\"Size after filtering nan values: {len(ChEMBL)}\")"
   ]
  },
  {
   "cell_type": "code",
   "execution_count": 6,
   "id": "1a2d7997",
   "metadata": {},
   "outputs": [
    {
     "name": "stdout",
     "output_type": "stream",
     "text": [
      "Number of activities: 706206\n"
     ]
    },
    {
     "data": {
      "text/html": [
       "<div>\n",
       "<style scoped>\n",
       "    .dataframe tbody tr th:only-of-type {\n",
       "        vertical-align: middle;\n",
       "    }\n",
       "\n",
       "    .dataframe tbody tr th {\n",
       "        vertical-align: top;\n",
       "    }\n",
       "\n",
       "    .dataframe thead th {\n",
       "        text-align: right;\n",
       "    }\n",
       "</style>\n",
       "<table border=\"1\" class=\"dataframe\">\n",
       "  <thead>\n",
       "    <tr style=\"text-align: right;\">\n",
       "      <th></th>\n",
       "      <th>organism</th>\n",
       "      <th>count</th>\n",
       "    </tr>\n",
       "  </thead>\n",
       "  <tbody>\n",
       "    <tr>\n",
       "      <th>0</th>\n",
       "      <td>Mycobacterium tuberculosis (strain ATCC 25618 ...</td>\n",
       "      <td>280931</td>\n",
       "    </tr>\n",
       "    <tr>\n",
       "      <th>1</th>\n",
       "      <td>Mycobacterium tuberculosis</td>\n",
       "      <td>215854</td>\n",
       "    </tr>\n",
       "    <tr>\n",
       "      <th>2</th>\n",
       "      <td>NaN</td>\n",
       "      <td>205593</td>\n",
       "    </tr>\n",
       "    <tr>\n",
       "      <th>3</th>\n",
       "      <td>Mycobacterium tuberculosis variant bovis</td>\n",
       "      <td>1754</td>\n",
       "    </tr>\n",
       "    <tr>\n",
       "      <th>4</th>\n",
       "      <td>Mycobacterium tuberculosis variant bovis BCG</td>\n",
       "      <td>1564</td>\n",
       "    </tr>\n",
       "    <tr>\n",
       "      <th>5</th>\n",
       "      <td>Mycobacterium tuberculosis H37Rv</td>\n",
       "      <td>378</td>\n",
       "    </tr>\n",
       "    <tr>\n",
       "      <th>6</th>\n",
       "      <td>Mycobacterium tuberculosis (strain CDC 1551 / ...</td>\n",
       "      <td>99</td>\n",
       "    </tr>\n",
       "    <tr>\n",
       "      <th>7</th>\n",
       "      <td>Mycobacterium tuberculosis variant microti</td>\n",
       "      <td>21</td>\n",
       "    </tr>\n",
       "    <tr>\n",
       "      <th>8</th>\n",
       "      <td>Mycobacterium bovis (strain BCG / Pasteur 1173P2)</td>\n",
       "      <td>8</td>\n",
       "    </tr>\n",
       "    <tr>\n",
       "      <th>9</th>\n",
       "      <td>Mycobacterium bovis</td>\n",
       "      <td>2</td>\n",
       "    </tr>\n",
       "    <tr>\n",
       "      <th>10</th>\n",
       "      <td>Mycobacterium tuberculosis (strain ATCC 25177 ...</td>\n",
       "      <td>1</td>\n",
       "    </tr>\n",
       "    <tr>\n",
       "      <th>11</th>\n",
       "      <td>Bacteria</td>\n",
       "      <td>1</td>\n",
       "    </tr>\n",
       "  </tbody>\n",
       "</table>\n",
       "</div>"
      ],
      "text/plain": [
       "                                             organism   count\n",
       "0   Mycobacterium tuberculosis (strain ATCC 25618 ...  280931\n",
       "1                          Mycobacterium tuberculosis  215854\n",
       "2                                                 NaN  205593\n",
       "3            Mycobacterium tuberculosis variant bovis    1754\n",
       "4        Mycobacterium tuberculosis variant bovis BCG    1564\n",
       "5                    Mycobacterium tuberculosis H37Rv     378\n",
       "6   Mycobacterium tuberculosis (strain CDC 1551 / ...      99\n",
       "7          Mycobacterium tuberculosis variant microti      21\n",
       "8   Mycobacterium bovis (strain BCG / Pasteur 1173P2)       8\n",
       "9                                 Mycobacterium bovis       2\n",
       "10  Mycobacterium tuberculosis (strain ATCC 25177 ...       1\n",
       "11                                           Bacteria       1"
      ]
     },
     "execution_count": 6,
     "metadata": {},
     "output_type": "execute_result"
    }
   ],
   "source": [
    "# Get mtb data\n",
    "pathogen = \"Mycobacterium tuberculosis\"\n",
    "# pathogen = \"plasmodium falciparum\"\n",
    "ChEMBL = ChEMBL[ChEMBL['target_organism'].str.contains(pathogen, case=False, na=False) | \n",
    "                ChEMBL['assay_organism'].str.contains(pathogen, case=False, na=False)].reset_index(drop=True)\n",
    "\n",
    "print(f\"Number of activities: {len(ChEMBL)}\")\n",
    "\n",
    "df = dict(Counter(ChEMBL['target_organism']))\n",
    "df = pd.DataFrame([[i, df[i]] for i in sorted(df, key = lambda x: df[x], reverse=True)], columns=['organism', 'count'])\n",
    "df"
   ]
  },
  {
   "cell_type": "code",
   "execution_count": 10,
   "id": "710364bb",
   "metadata": {},
   "outputs": [
    {
     "data": {
      "text/html": [
       "<div>\n",
       "<style scoped>\n",
       "    .dataframe tbody tr th:only-of-type {\n",
       "        vertical-align: middle;\n",
       "    }\n",
       "\n",
       "    .dataframe tbody tr th {\n",
       "        vertical-align: top;\n",
       "    }\n",
       "\n",
       "    .dataframe thead th {\n",
       "        text-align: right;\n",
       "    }\n",
       "</style>\n",
       "<table border=\"1\" class=\"dataframe\">\n",
       "  <thead>\n",
       "    <tr style=\"text-align: right;\">\n",
       "      <th></th>\n",
       "      <th>assay_id</th>\n",
       "      <th>assay_type</th>\n",
       "      <th>assay_organism</th>\n",
       "      <th>target_type</th>\n",
       "      <th>target_chembl_id</th>\n",
       "      <th>target_organism</th>\n",
       "      <th>activity_type</th>\n",
       "      <th>unit</th>\n",
       "      <th>activities</th>\n",
       "      <th>cpds</th>\n",
       "    </tr>\n",
       "  </thead>\n",
       "  <tbody>\n",
       "    <tr>\n",
       "      <th>0</th>\n",
       "      <td>CHEMBL4649948</td>\n",
       "      <td>F</td>\n",
       "      <td>Mycobacterium tuberculosis</td>\n",
       "      <td>UNCHECKED</td>\n",
       "      <td>CHEMBL612545</td>\n",
       "      <td>NaN</td>\n",
       "      <td>PERCENTEFFECT</td>\n",
       "      <td>%</td>\n",
       "      <td>93556</td>\n",
       "      <td>86590</td>\n",
       "    </tr>\n",
       "    <tr>\n",
       "      <th>1</th>\n",
       "      <td>CHEMBL4649949</td>\n",
       "      <td>F</td>\n",
       "      <td>Mycobacterium tuberculosis</td>\n",
       "      <td>UNCHECKED</td>\n",
       "      <td>CHEMBL612545</td>\n",
       "      <td>NaN</td>\n",
       "      <td>PERCENTEFFECT</td>\n",
       "      <td>%</td>\n",
       "      <td>101516</td>\n",
       "      <td>86576</td>\n",
       "    </tr>\n",
       "    <tr>\n",
       "      <th>2</th>\n",
       "      <td>CHEMBL4649971</td>\n",
       "      <td>F</td>\n",
       "      <td>Mycobacterium tuberculosis</td>\n",
       "      <td>ORGANISM</td>\n",
       "      <td>CHEMBL360</td>\n",
       "      <td>Mycobacterium tuberculosis</td>\n",
       "      <td>PERCENTEFFECT</td>\n",
       "      <td>%</td>\n",
       "      <td>68620</td>\n",
       "      <td>68614</td>\n",
       "    </tr>\n",
       "    <tr>\n",
       "      <th>3</th>\n",
       "      <td>CHEMBL4649972</td>\n",
       "      <td>F</td>\n",
       "      <td>Mycobacterium tuberculosis</td>\n",
       "      <td>PROTEIN COMPLEX</td>\n",
       "      <td>CHEMBL4662931</td>\n",
       "      <td>Mycobacterium tuberculosis (strain ATCC 25618 ...</td>\n",
       "      <td>PERCENTEFFECT</td>\n",
       "      <td>%</td>\n",
       "      <td>68617</td>\n",
       "      <td>68611</td>\n",
       "    </tr>\n",
       "    <tr>\n",
       "      <th>4</th>\n",
       "      <td>CHEMBL4649941</td>\n",
       "      <td>F</td>\n",
       "      <td>Mycobacterium tuberculosis</td>\n",
       "      <td>SINGLE PROTEIN</td>\n",
       "      <td>CHEMBL4662928</td>\n",
       "      <td>Mycobacterium tuberculosis (strain ATCC 25618 ...</td>\n",
       "      <td>PERCENTEFFECT</td>\n",
       "      <td>%</td>\n",
       "      <td>67382</td>\n",
       "      <td>66942</td>\n",
       "    </tr>\n",
       "  </tbody>\n",
       "</table>\n",
       "</div>"
      ],
      "text/plain": [
       "        assay_id assay_type              assay_organism      target_type  \\\n",
       "0  CHEMBL4649948          F  Mycobacterium tuberculosis        UNCHECKED   \n",
       "1  CHEMBL4649949          F  Mycobacterium tuberculosis        UNCHECKED   \n",
       "2  CHEMBL4649971          F  Mycobacterium tuberculosis         ORGANISM   \n",
       "3  CHEMBL4649972          F  Mycobacterium tuberculosis  PROTEIN COMPLEX   \n",
       "4  CHEMBL4649941          F  Mycobacterium tuberculosis   SINGLE PROTEIN   \n",
       "\n",
       "  target_chembl_id                                    target_organism  \\\n",
       "0     CHEMBL612545                                                NaN   \n",
       "1     CHEMBL612545                                                NaN   \n",
       "2        CHEMBL360                         Mycobacterium tuberculosis   \n",
       "3    CHEMBL4662931  Mycobacterium tuberculosis (strain ATCC 25618 ...   \n",
       "4    CHEMBL4662928  Mycobacterium tuberculosis (strain ATCC 25618 ...   \n",
       "\n",
       "   activity_type unit  activities   cpds  \n",
       "0  PERCENTEFFECT    %       93556  86590  \n",
       "1  PERCENTEFFECT    %      101516  86576  \n",
       "2  PERCENTEFFECT    %       68620  68614  \n",
       "3  PERCENTEFFECT    %       68617  68611  \n",
       "4  PERCENTEFFECT    %       67382  66942  "
      ]
     },
     "execution_count": 10,
     "metadata": {},
     "output_type": "execute_result"
    }
   ],
   "source": [
    "pathogen = 'mtuberculosis'\n",
    "ASSAYS_INFO = pd.read_csv(os.path.join(root, \"..\", \"output\", pathogen, 'assays.csv'))\n",
    "ASSAYS_INFO.head()"
   ]
  },
  {
   "cell_type": "code",
   "execution_count": 91,
   "id": "b329c266",
   "metadata": {},
   "outputs": [],
   "source": [
    "compounds_assay = ChEMBL[(ChEMBL['assay_chembl_id'] == \"CHEMBL4649948\") & \n",
    "                         (ChEMBL['activity_type'] == \"PERCENTEFFECT\") & \n",
    "                         (ChEMBL['unit'] == \"%\") & \n",
    "                         (ChEMBL['canonical_smiles'].isna() == False)]['canonical_smiles'].tolist()\n",
    "\n",
    "compounds_assay = list(set(compounds_assay))"
   ]
  },
  {
   "cell_type": "code",
   "execution_count": 92,
   "id": "519194ac",
   "metadata": {},
   "outputs": [],
   "source": [
    "import bblean\n",
    "import bblean.plotting as plotting\n",
    "import bblean.analysis as analysis"
   ]
  },
  {
   "cell_type": "code",
   "execution_count": 93,
   "id": "acea1436",
   "metadata": {},
   "outputs": [
    {
     "name": "stdout",
     "output_type": "stream",
     "text": [
      "Shape: (86589, 256), DType: uint8\n"
     ]
    }
   ],
   "source": [
    "fps = bblean.fps_from_smiles(compounds_assay, pack=True, n_features=2048)\n",
    "print(f\"Shape: {fps.shape}, DType: {fps.dtype}\")"
   ]
  },
  {
   "cell_type": "code",
   "execution_count": 103,
   "id": "62238750",
   "metadata": {},
   "outputs": [
    {
     "data": {
      "text/plain": [
       "BitBirch(threshold=0.6, branching_factor=50, merge_criterion='diameter')"
      ]
     },
     "execution_count": 103,
     "metadata": {},
     "output_type": "execute_result"
    }
   ],
   "source": [
    "bb_tree = bblean.BitBirch(branching_factor=50, threshold=0.6, merge_criterion=\"diameter\")\n",
    "bb_tree.fit(fps)"
   ]
  },
  {
   "cell_type": "code",
   "execution_count": 104,
   "id": "f8c0523c",
   "metadata": {},
   "outputs": [
    {
     "name": "stdout",
     "output_type": "stream",
     "text": [
      "74036\n"
     ]
    }
   ],
   "source": [
    "# First we run a cluster analysis on the resulting ids\n",
    "clusters = bb_tree.get_cluster_mol_ids()\n",
    "print(len(clusters))\n",
    "# ca = analysis.cluster_analysis(clusters, fps, compounds_assay)\n",
    "\n",
    "# # Afterwards we can use the utility functions on the bblean.plotting module\n",
    "# plotting.summary_plot(ca, title=\"Diameter\")\n",
    "\n",
    "# # Optionally we can save the cluster analysis metrics as a csv file\n",
    "# ca.dump_metrics(\"./diameter-metrics.csv\")\n",
    "# plt.show()"
   ]
  },
  {
   "cell_type": "code",
   "execution_count": 105,
   "id": "5b16f098",
   "metadata": {},
   "outputs": [
    {
     "data": {
      "text/plain": [
       "[[6633,\n",
       "  10879,\n",
       "  16012,\n",
       "  16800,\n",
       "  17511,\n",
       "  25511,\n",
       "  25690,\n",
       "  26220,\n",
       "  30893,\n",
       "  31991,\n",
       "  33769,\n",
       "  38081,\n",
       "  39973,\n",
       "  40599,\n",
       "  40917,\n",
       "  43893,\n",
       "  44990,\n",
       "  46990,\n",
       "  47718,\n",
       "  48648,\n",
       "  52451,\n",
       "  54872,\n",
       "  62476,\n",
       "  70427,\n",
       "  70935,\n",
       "  75774,\n",
       "  76271,\n",
       "  76956,\n",
       "  77601,\n",
       "  84034],\n",
       " [28281,\n",
       "  30587,\n",
       "  35077,\n",
       "  35128,\n",
       "  37320,\n",
       "  37457,\n",
       "  38900,\n",
       "  39196,\n",
       "  42168,\n",
       "  42752,\n",
       "  49258,\n",
       "  54718,\n",
       "  56020,\n",
       "  60821,\n",
       "  66401,\n",
       "  66758,\n",
       "  68503],\n",
       " [39185,\n",
       "  40333,\n",
       "  42613,\n",
       "  43063,\n",
       "  43552,\n",
       "  50210,\n",
       "  56751,\n",
       "  57822,\n",
       "  60963,\n",
       "  65749,\n",
       "  69841,\n",
       "  70754,\n",
       "  71005,\n",
       "  73068,\n",
       "  76383,\n",
       "  82746],\n",
       " [9175,\n",
       "  14012,\n",
       "  14227,\n",
       "  18698,\n",
       "  21088,\n",
       "  22643,\n",
       "  25846,\n",
       "  28452,\n",
       "  29213,\n",
       "  29613,\n",
       "  32556,\n",
       "  51562,\n",
       "  58922,\n",
       "  77670,\n",
       "  82058],\n",
       " [12534,\n",
       "  15278,\n",
       "  16294,\n",
       "  16519,\n",
       "  18889,\n",
       "  21511,\n",
       "  23348,\n",
       "  26041,\n",
       "  44896,\n",
       "  45135,\n",
       "  47911,\n",
       "  60296,\n",
       "  61189,\n",
       "  70743,\n",
       "  72498]]"
      ]
     },
     "execution_count": 105,
     "metadata": {},
     "output_type": "execute_result"
    }
   ],
   "source": [
    "clusters[:5]"
   ]
  },
  {
   "cell_type": "code",
   "execution_count": 82,
   "id": "8ac55601",
   "metadata": {},
   "outputs": [],
   "source": [
    "from rdkit import Chem"
   ]
  },
  {
   "cell_type": "code",
   "execution_count": 100,
   "id": "2b78d654",
   "metadata": {},
   "outputs": [
    {
     "data": {
      "image/png": "[encoded data removed]",
      "text/plain": [
       "<rdkit.Chem.rdchem.Mol at 0x7419d9636500>"
      ]
     },
     "execution_count": 100,
     "metadata": {},
     "output_type": "execute_result"
    }
   ],
   "source": [
    "Chem.MolFromSmiles(compounds_assay[74387])"
   ]
  },
  {
   "cell_type": "code",
   "execution_count": 101,
   "id": "8a300253",
   "metadata": {},
   "outputs": [
    {
     "data": {
      "image/png": "[encoded data removed]",
      "text/plain": [
       "<rdkit.Chem.rdchem.Mol at 0x7419d9637b50>"
      ]
     },
     "execution_count": 101,
     "metadata": {},
     "output_type": "execute_result"
    }
   ],
   "source": [
    "Chem.MolFromSmiles(compounds_assay[75548])"
   ]
  },
  {
   "cell_type": "code",
   "execution_count": 102,
   "id": "7f2b0d14",
   "metadata": {},
   "outputs": [
    {
     "data": {
      "image/png": "[encoded data removed]",
      "text/plain": [
       "<rdkit.Chem.rdchem.Mol at 0x7419d9634200>"
      ]
     },
     "execution_count": 102,
     "metadata": {},
     "output_type": "execute_result"
    }
   ],
   "source": [
    "Chem.MolFromSmiles(compounds_assay[78459])"
   ]
  },
  {
   "cell_type": "code",
   "execution_count": null,
   "id": "43198b9d",
   "metadata": {},
   "outputs": [],
   "source": []
  }
 ],
 "metadata": {
  "kernelspec": {
   "display_name": "bblean",
   "language": "python",
   "name": "python3"
  },
  "language_info": {
   "codemirror_mode": {
    "name": "ipython",
    "version": 3
   },
   "file_extension": ".py",
   "mimetype": "text/x-python",
   "name": "python",
   "nbconvert_exporter": "python",
   "pygments_lexer": "ipython3",
   "version": "3.11.14"
  }
 },
 "nbformat": 4,
 "nbformat_minor": 5
}
