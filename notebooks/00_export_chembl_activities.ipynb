{
 "cells": [
  {
   "cell_type": "code",
   "execution_count": 1,
   "id": "df30cb28",
   "metadata": {},
   "outputs": [],
   "source": [
    "from rdkit.Chem import Descriptors\n",
    "from collections import Counter\n",
    "from rdkit import Chem\n",
    "from tqdm import tqdm\n",
    "import pandas as pd\n",
    "import numpy as np\n",
    "import os"
   ]
  },
  {
   "cell_type": "code",
   "execution_count": 2,
   "id": "835f7361",
   "metadata": {},
   "outputs": [
    {
     "name": "stdout",
     "output_type": "stream",
     "text": [
      "Number of activities: 24267312\n",
      "Number of unique compounds: 2774266\n",
      "Number of unique assays: 1890531\n"
     ]
    }
   ],
   "source": [
    "root = \".\"\n",
    "activities = pd.read_csv(os.path.join(root, \"..\", \"config\", \"chembl_activities\", \"activities.csv\"), low_memory=False)\n",
    "\n",
    "print(f\"Number of activities: {len(set(activities['activity_id']))}\")\n",
    "print(f\"Number of unique compounds: {len(set(activities['molregno']))}\")\n",
    "print(f\"Number of unique assays: {len(set(activities['assay_id']))}\")"
   ]
  },
  {
   "cell_type": "code",
   "execution_count": 3,
   "id": "77ece8bc",
   "metadata": {},
   "outputs": [
    {
     "data": {
      "text/plain": [
       "Index(['activity_id', 'assay_id', 'doc_id', 'record_id', 'molregno',\n",
       "       'standard_relation', 'standard_value', 'standard_units',\n",
       "       'standard_flag', 'standard_type', 'activity_comment',\n",
       "       'data_validity_comment', 'potential_duplicate', 'pchembl_value',\n",
       "       'bao_endpoint', 'uo_units', 'qudt_units', 'toid', 'upper_value',\n",
       "       'standard_upper_value', 'src_id', 'type', 'relation', 'value', 'units',\n",
       "       'text_value', 'standard_text_value', 'action_type'],\n",
       "      dtype='object')"
      ]
     },
     "execution_count": 3,
     "metadata": {},
     "output_type": "execute_result"
    }
   ],
   "source": [
    "activities.columns"
   ]
  },
  {
   "cell_type": "code",
   "execution_count": 4,
   "id": "b89f9d03",
   "metadata": {},
   "outputs": [],
   "source": [
    "# Filter columns\n",
    "columns = ['activity_id', 'assay_id', 'molregno','standard_relation', 'standard_value', 'standard_units', 'standard_type', 'activity_comment',\n",
    "           'data_validity_comment', 'pchembl_value','standard_upper_value','standard_text_value', 'action_type']\n",
    "activities = activities[columns]"
   ]
  },
  {
   "cell_type": "code",
   "execution_count": null,
   "id": "55debe3e",
   "metadata": {},
   "outputs": [],
   "source": []
  },
  {
   "cell_type": "code",
   "execution_count": null,
   "id": "92d541b3",
   "metadata": {},
   "outputs": [],
   "source": []
  },
  {
   "cell_type": "code",
   "execution_count": null,
   "id": "9d134da7",
   "metadata": {},
   "outputs": [],
   "source": []
  },
  {
   "cell_type": "code",
   "execution_count": null,
   "id": "1a94a481",
   "metadata": {},
   "outputs": [],
   "source": []
  },
  {
   "cell_type": "code",
   "execution_count": null,
   "id": "a2c6b386",
   "metadata": {},
   "outputs": [],
   "source": []
  },
  {
   "cell_type": "code",
   "execution_count": null,
   "id": "d65058f5",
   "metadata": {},
   "outputs": [],
   "source": []
  },
  {
   "cell_type": "code",
   "execution_count": null,
   "id": "ab4fd8e0",
   "metadata": {},
   "outputs": [],
   "source": []
  },
  {
   "cell_type": "code",
   "execution_count": null,
   "id": "3c935139",
   "metadata": {},
   "outputs": [],
   "source": []
  },
  {
   "cell_type": "code",
   "execution_count": null,
   "id": "a6b919e4",
   "metadata": {},
   "outputs": [],
   "source": []
  },
  {
   "cell_type": "code",
   "execution_count": null,
   "id": "9ce0abe9",
   "metadata": {},
   "outputs": [],
   "source": []
  },
  {
   "cell_type": "code",
   "execution_count": null,
   "id": "849e9187",
   "metadata": {},
   "outputs": [],
   "source": []
  },
  {
   "cell_type": "code",
   "execution_count": null,
   "id": "4f76583b",
   "metadata": {},
   "outputs": [],
   "source": [
    "type_unit = Counter([(i,j) for i,j in zip(activities['standard_type'], activities['standard_units']) if i == 'IC50'])"
   ]
  },
  {
   "cell_type": "code",
   "execution_count": null,
   "id": "8b85e6c9",
   "metadata": {},
   "outputs": [],
   "source": [
    "len(type_unit)"
   ]
  },
  {
   "cell_type": "code",
   "execution_count": null,
   "id": "e351ba43",
   "metadata": {},
   "outputs": [],
   "source": []
  },
  {
   "cell_type": "code",
   "execution_count": null,
   "id": "2313b9dd",
   "metadata": {},
   "outputs": [],
   "source": []
  },
  {
   "cell_type": "code",
   "execution_count": null,
   "id": "b46159c5",
   "metadata": {},
   "outputs": [],
   "source": [
    "units = Counter(activities['standard_units'].tolist())\n",
    "units = pd.DataFrame([[i, units[i]] for i in sorted(units, key=lambda x: units[x])[::-1]], columns=['unit', 'count'])\n",
    "\n",
    "total_count = units['count'].sum()\n",
    "units['cumulative_prop'] = (units['count'].cumsum() / total_count).round(3)"
   ]
  },
  {
   "cell_type": "code",
   "execution_count": null,
   "id": "9a2803e7",
   "metadata": {},
   "outputs": [],
   "source": [
    "u = \"\\n\".join(np.array(units['unit'].tolist()).astype(str))\n",
    "with open(os.path.join(root, \"..\", \"config\", \"chembl_activities\", 'units.csv'), \"w\") as out:\n",
    "    out.write(u)"
   ]
  },
  {
   "cell_type": "code",
   "execution_count": null,
   "id": "0fbaade7",
   "metadata": {},
   "outputs": [],
   "source": [
    "units[:10]"
   ]
  },
  {
   "cell_type": "code",
   "execution_count": null,
   "id": "d76bce51",
   "metadata": {},
   "outputs": [],
   "source": [
    "units[:50]"
   ]
  }
 ],
 "metadata": {
  "kernelspec": {
   "display_name": "camt",
   "language": "python",
   "name": "python3"
  },
  "language_info": {
   "codemirror_mode": {
    "name": "ipython",
    "version": 3
   },
   "file_extension": ".py",
   "mimetype": "text/x-python",
   "name": "python",
   "nbconvert_exporter": "python",
   "pygments_lexer": "ipython3",
   "version": "3.10.18"
  }
 },
 "nbformat": 4,
 "nbformat_minor": 5
}
