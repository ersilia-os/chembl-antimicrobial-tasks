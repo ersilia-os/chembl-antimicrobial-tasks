{
 "cells": [
  {
   "cell_type": "code",
   "execution_count": 1,
   "id": "14619a71",
   "metadata": {},
   "outputs": [],
   "source": [
    "from collections import Counter\n",
    "from tqdm import tqdm\n",
    "import pandas as pd\n",
    "import numpy as np"
   ]
  },
  {
   "cell_type": "code",
   "execution_count": 2,
   "id": "3ce283b2",
   "metadata": {},
   "outputs": [
    {
     "name": "stdout",
     "output_type": "stream",
     "text": [
      "Loading ChEMBL preprocessed data...\n",
      "Original size: 24267312\n",
      "Filtering out nan values...\n",
      "Size after filtering nan values: 20911360\n"
     ]
    }
   ],
   "source": [
    "print(\"Loading ChEMBL preprocessed data...\")\n",
    "ChEMBL = pd.read_csv(\"../config/chembl_processed/activities_preprocessed.csv\", low_memory=False)\n",
    "print(f\"Original size: {len(ChEMBL)}\")\n",
    "print(\"Filtering out nan values...\")\n",
    "ChEMBL = ChEMBL[ChEMBL['value'].isna() == False].reset_index(drop=True)\n",
    "print(f\"Size after filtering nan values: {len(ChEMBL)}\")"
   ]
  },
  {
   "cell_type": "code",
   "execution_count": 4,
   "id": "1a07f299",
   "metadata": {},
   "outputs": [
    {
     "name": "stdout",
     "output_type": "stream",
     "text": [
      "Number of activities: 706206\n"
     ]
    },
    {
     "data": {
      "text/html": [
       "<div>\n",
       "<style scoped>\n",
       "    .dataframe tbody tr th:only-of-type {\n",
       "        vertical-align: middle;\n",
       "    }\n",
       "\n",
       "    .dataframe tbody tr th {\n",
       "        vertical-align: top;\n",
       "    }\n",
       "\n",
       "    .dataframe thead th {\n",
       "        text-align: right;\n",
       "    }\n",
       "</style>\n",
       "<table border=\"1\" class=\"dataframe\">\n",
       "  <thead>\n",
       "    <tr style=\"text-align: right;\">\n",
       "      <th></th>\n",
       "      <th>organism</th>\n",
       "      <th>count</th>\n",
       "    </tr>\n",
       "  </thead>\n",
       "  <tbody>\n",
       "    <tr>\n",
       "      <th>0</th>\n",
       "      <td>Mycobacterium tuberculosis (strain ATCC 25618 ...</td>\n",
       "      <td>280931</td>\n",
       "    </tr>\n",
       "    <tr>\n",
       "      <th>1</th>\n",
       "      <td>Mycobacterium tuberculosis</td>\n",
       "      <td>215854</td>\n",
       "    </tr>\n",
       "    <tr>\n",
       "      <th>2</th>\n",
       "      <td>NaN</td>\n",
       "      <td>205593</td>\n",
       "    </tr>\n",
       "    <tr>\n",
       "      <th>3</th>\n",
       "      <td>Mycobacterium tuberculosis variant bovis</td>\n",
       "      <td>1754</td>\n",
       "    </tr>\n",
       "    <tr>\n",
       "      <th>4</th>\n",
       "      <td>Mycobacterium tuberculosis variant bovis BCG</td>\n",
       "      <td>1564</td>\n",
       "    </tr>\n",
       "    <tr>\n",
       "      <th>5</th>\n",
       "      <td>Mycobacterium tuberculosis H37Rv</td>\n",
       "      <td>378</td>\n",
       "    </tr>\n",
       "    <tr>\n",
       "      <th>6</th>\n",
       "      <td>Mycobacterium tuberculosis (strain CDC 1551 / ...</td>\n",
       "      <td>99</td>\n",
       "    </tr>\n",
       "    <tr>\n",
       "      <th>7</th>\n",
       "      <td>Mycobacterium tuberculosis variant microti</td>\n",
       "      <td>21</td>\n",
       "    </tr>\n",
       "    <tr>\n",
       "      <th>8</th>\n",
       "      <td>Mycobacterium bovis (strain BCG / Pasteur 1173P2)</td>\n",
       "      <td>8</td>\n",
       "    </tr>\n",
       "    <tr>\n",
       "      <th>9</th>\n",
       "      <td>Mycobacterium bovis</td>\n",
       "      <td>2</td>\n",
       "    </tr>\n",
       "    <tr>\n",
       "      <th>10</th>\n",
       "      <td>Mycobacterium tuberculosis (strain ATCC 25177 ...</td>\n",
       "      <td>1</td>\n",
       "    </tr>\n",
       "    <tr>\n",
       "      <th>11</th>\n",
       "      <td>Bacteria</td>\n",
       "      <td>1</td>\n",
       "    </tr>\n",
       "  </tbody>\n",
       "</table>\n",
       "</div>"
      ],
      "text/plain": [
       "                                             organism   count\n",
       "0   Mycobacterium tuberculosis (strain ATCC 25618 ...  280931\n",
       "1                          Mycobacterium tuberculosis  215854\n",
       "2                                                 NaN  205593\n",
       "3            Mycobacterium tuberculosis variant bovis    1754\n",
       "4        Mycobacterium tuberculosis variant bovis BCG    1564\n",
       "5                    Mycobacterium tuberculosis H37Rv     378\n",
       "6   Mycobacterium tuberculosis (strain CDC 1551 / ...      99\n",
       "7          Mycobacterium tuberculosis variant microti      21\n",
       "8   Mycobacterium bovis (strain BCG / Pasteur 1173P2)       8\n",
       "9                                 Mycobacterium bovis       2\n",
       "10  Mycobacterium tuberculosis (strain ATCC 25177 ...       1\n",
       "11                                           Bacteria       1"
      ]
     },
     "execution_count": 4,
     "metadata": {},
     "output_type": "execute_result"
    }
   ],
   "source": [
    "# Get mtb data\n",
    "pathogen = \"Mycobacterium tuberculosis\"\n",
    "ChEMBL = ChEMBL[ChEMBL['target_organism'].str.contains(pathogen, case=False, na=False) | \n",
    "                ChEMBL['assay_organism'].str.contains(pathogen, case=False, na=False)].reset_index(drop=True)\n",
    "\n",
    "print(f\"Number of activities: {len(ChEMBL)}\")\n",
    "\n",
    "df = dict(Counter(ChEMBL['target_organism']))\n",
    "df = pd.DataFrame([[i, df[i]] for i in sorted(df, key = lambda x: df[x], reverse=True)], columns=['organism', 'count'])\n",
    "df"
   ]
  },
  {
   "cell_type": "code",
   "execution_count": 5,
   "id": "a0829dca",
   "metadata": {},
   "outputs": [
    {
     "data": {
      "text/plain": [
       "Counter({'F': 692556, 'B': 13552, 'A': 89, 'U': 8, 'T': 1})"
      ]
     },
     "execution_count": 5,
     "metadata": {},
     "output_type": "execute_result"
    }
   ],
   "source": [
    "Counter(ChEMBL['assay_type'])"
   ]
  },
  {
   "cell_type": "code",
   "execution_count": 6,
   "id": "d28fa3b2",
   "metadata": {},
   "outputs": [],
   "source": [
    "# # Get activities data\n",
    "# df = pd.read_csv(\"../config/chembl_activities/activities.csv\", low_memory=False)\n",
    "\n",
    "# # Assay id to doc id\n",
    "# assayid_to_docid = {i: j for i,j in zip(df['assay_id'], df['doc_id'])}\n",
    "\n",
    "# # Load dict target\n",
    "# df = pd.read_csv(\"../config/chembl_activities/target_dictionary.csv\", low_memory=False)\n",
    "\n",
    "# # ChEMBL ID to name\n",
    "# target_chemblid_to_name = {i: j for i,j in zip(df['chembl_id'], df['pref_name'])}"
   ]
  },
  {
   "cell_type": "code",
   "execution_count": 7,
   "id": "7658a5f1",
   "metadata": {},
   "outputs": [],
   "source": [
    "# Helper function - is there only a single value?\n",
    "def only_one(values, name):\n",
    "    if len(values) != 1:\n",
    "        raise ValueError(f\"Expected exactly one {name}, found {values}\")\n",
    "    return values[0]"
   ]
  },
  {
   "cell_type": "code",
   "execution_count": 8,
   "id": "7d629380",
   "metadata": {},
   "outputs": [],
   "source": [
    "assays = sorted(set(ChEMBL['assay_chembl_id']))"
   ]
  },
  {
   "cell_type": "code",
   "execution_count": 9,
   "id": "78975ec8",
   "metadata": {},
   "outputs": [
    {
     "name": "stderr",
     "output_type": "stream",
     "text": [
      "100%|██████████| 10901/10901 [04:58<00:00, 36.58it/s]\n"
     ]
    }
   ],
   "source": [
    "ASSAYS_INFO = []\n",
    "\n",
    "\n",
    "# For each assay\n",
    "for assay in tqdm(assays):\n",
    "\n",
    "    # Get subset of strain + assay data\n",
    "    df_ = ChEMBL[ChEMBL[\"assay_chembl_id\"] == assay]\n",
    "    \n",
    "    # Get values\n",
    "    assay_type = list(set(df_['assay_type']))\n",
    "    target_type = list(set(df_['target_type']))\n",
    "    target_chembl_id = list(set(df_['target_chembl_id']))\n",
    "    activity_types = list(set(df_['activity_type']))\n",
    "    target_organism = list(set(df_['target_organism']))\n",
    "    assay_organism = list(set(df_['assay_organism']))\n",
    "\n",
    "    # Check coherence\n",
    "    assay_type = only_one(assay_type, \"assay_type\")\n",
    "    target_type = only_one(target_type, \"target_type\")\n",
    "    target_chembl_id = only_one(target_chembl_id, \"target_chembl_id\")\n",
    "    target_organism = only_one(target_organism, \"target_organism\")\n",
    "    assay_organism = only_one(assay_organism, \"assay_organism\")\n",
    "\n",
    "    # For each activity type\n",
    "    for act_type in activity_types:\n",
    "\n",
    "        df__ = df_[df_[\"activity_type\"] == act_type]\n",
    "        activity_type = list(set(df__['activity_type']))\n",
    "        activity_type = only_one(activity_type, 'activity_type')\n",
    "        units = list(set(df__['unit']))\n",
    "\n",
    "        for u in units:\n",
    "            if type(u) != str:\n",
    "                df___ = df__[df__[\"unit\"].isna()]\n",
    "            else:\n",
    "                df___ = df__[df__[\"unit\"] == u]\n",
    "            unit = list(set(df___['unit']))\n",
    "            unit = only_one(unit, \"unit\")\n",
    "            activities = len(df___)\n",
    "            cpds = len(set(df___['compound_chembl_id']))\n",
    "            ASSAYS_INFO.append([assay, assay_type, assay_organism, target_type, target_chembl_id, target_organism, activity_type, unit, activities, cpds])\n",
    "\n",
    "ASSAYS_INFO = pd.DataFrame(ASSAYS_INFO, columns=[\"assay_id\", \"assay_type\", \"assay_organism\", \"target_type\", \"target_chembl_id\", \"target_organism\", \"activity_type\", \"unit\", \"activities\", \"cpds\"])\n",
    "ASSAYS_INFO = ASSAYS_INFO.sort_values('cpds', ascending=False).reset_index(drop=True)\n",
    "\n",
    "# # Load assay descriptions\n",
    "# assay_descriptions = pd.read_csv(\"../config/chembl_activities/assay_descriptions.csv\", low_memory=False)\n",
    "# assay_descriptions = {i: j for i,j in zip(assay_descriptions['chembl_id'], assay_descriptions['description'])}\n",
    "# ASSAYS_INFO['description'] = [assay_descriptions[i] for i in ASSAYS_INFO['assay_id']]"
   ]
  },
  {
   "cell_type": "code",
   "execution_count": 10,
   "id": "1243b32f",
   "metadata": {},
   "outputs": [],
   "source": [
    "ASSAYS_INFO = ASSAYS_INFO[ASSAYS_INFO['cpds'] > 100].reset_index(drop=True)"
   ]
  },
  {
   "cell_type": "code",
   "execution_count": 11,
   "id": "b8636f0f",
   "metadata": {},
   "outputs": [
    {
     "data": {
      "text/html": [
       "<div>\n",
       "<style scoped>\n",
       "    .dataframe tbody tr th:only-of-type {\n",
       "        vertical-align: middle;\n",
       "    }\n",
       "\n",
       "    .dataframe tbody tr th {\n",
       "        vertical-align: top;\n",
       "    }\n",
       "\n",
       "    .dataframe thead th {\n",
       "        text-align: right;\n",
       "    }\n",
       "</style>\n",
       "<table border=\"1\" class=\"dataframe\">\n",
       "  <thead>\n",
       "    <tr style=\"text-align: right;\">\n",
       "      <th></th>\n",
       "      <th>assay_id</th>\n",
       "      <th>assay_type</th>\n",
       "      <th>assay_organism</th>\n",
       "      <th>target_type</th>\n",
       "      <th>target_chembl_id</th>\n",
       "      <th>target_organism</th>\n",
       "      <th>activity_type</th>\n",
       "      <th>unit</th>\n",
       "      <th>activities</th>\n",
       "      <th>cpds</th>\n",
       "    </tr>\n",
       "  </thead>\n",
       "  <tbody>\n",
       "    <tr>\n",
       "      <th>0</th>\n",
       "      <td>CHEMBL4649948</td>\n",
       "      <td>F</td>\n",
       "      <td>Mycobacterium tuberculosis</td>\n",
       "      <td>UNCHECKED</td>\n",
       "      <td>CHEMBL612545</td>\n",
       "      <td>NaN</td>\n",
       "      <td>PERCENTEFFECT</td>\n",
       "      <td>%</td>\n",
       "      <td>93556</td>\n",
       "      <td>86590</td>\n",
       "    </tr>\n",
       "    <tr>\n",
       "      <th>1</th>\n",
       "      <td>CHEMBL4649949</td>\n",
       "      <td>F</td>\n",
       "      <td>Mycobacterium tuberculosis</td>\n",
       "      <td>UNCHECKED</td>\n",
       "      <td>CHEMBL612545</td>\n",
       "      <td>NaN</td>\n",
       "      <td>PERCENTEFFECT</td>\n",
       "      <td>%</td>\n",
       "      <td>101516</td>\n",
       "      <td>86576</td>\n",
       "    </tr>\n",
       "    <tr>\n",
       "      <th>2</th>\n",
       "      <td>CHEMBL4649971</td>\n",
       "      <td>F</td>\n",
       "      <td>Mycobacterium tuberculosis</td>\n",
       "      <td>ORGANISM</td>\n",
       "      <td>CHEMBL360</td>\n",
       "      <td>Mycobacterium tuberculosis</td>\n",
       "      <td>PERCENTEFFECT</td>\n",
       "      <td>%</td>\n",
       "      <td>68620</td>\n",
       "      <td>68614</td>\n",
       "    </tr>\n",
       "    <tr>\n",
       "      <th>3</th>\n",
       "      <td>CHEMBL4649972</td>\n",
       "      <td>F</td>\n",
       "      <td>Mycobacterium tuberculosis</td>\n",
       "      <td>PROTEIN COMPLEX</td>\n",
       "      <td>CHEMBL4662931</td>\n",
       "      <td>Mycobacterium tuberculosis (strain ATCC 25618 ...</td>\n",
       "      <td>PERCENTEFFECT</td>\n",
       "      <td>%</td>\n",
       "      <td>68617</td>\n",
       "      <td>68611</td>\n",
       "    </tr>\n",
       "    <tr>\n",
       "      <th>4</th>\n",
       "      <td>CHEMBL4649941</td>\n",
       "      <td>F</td>\n",
       "      <td>Mycobacterium tuberculosis</td>\n",
       "      <td>SINGLE PROTEIN</td>\n",
       "      <td>CHEMBL4662928</td>\n",
       "      <td>Mycobacterium tuberculosis (strain ATCC 25618 ...</td>\n",
       "      <td>PERCENTEFFECT</td>\n",
       "      <td>%</td>\n",
       "      <td>67382</td>\n",
       "      <td>66942</td>\n",
       "    </tr>\n",
       "    <tr>\n",
       "      <th>...</th>\n",
       "      <td>...</td>\n",
       "      <td>...</td>\n",
       "      <td>...</td>\n",
       "      <td>...</td>\n",
       "      <td>...</td>\n",
       "      <td>...</td>\n",
       "      <td>...</td>\n",
       "      <td>...</td>\n",
       "      <td>...</td>\n",
       "      <td>...</td>\n",
       "    </tr>\n",
       "    <tr>\n",
       "      <th>62</th>\n",
       "      <td>CHEMBL4011046</td>\n",
       "      <td>F</td>\n",
       "      <td>Mycobacterium tuberculosis</td>\n",
       "      <td>ORGANISM</td>\n",
       "      <td>CHEMBL360</td>\n",
       "      <td>Mycobacterium tuberculosis</td>\n",
       "      <td>GI</td>\n",
       "      <td>%</td>\n",
       "      <td>103</td>\n",
       "      <td>103</td>\n",
       "    </tr>\n",
       "    <tr>\n",
       "      <th>63</th>\n",
       "      <td>CHEMBL1115630</td>\n",
       "      <td>F</td>\n",
       "      <td>Mycobacterium tuberculosis</td>\n",
       "      <td>ORGANISM</td>\n",
       "      <td>CHEMBL360</td>\n",
       "      <td>Mycobacterium tuberculosis</td>\n",
       "      <td>MIC</td>\n",
       "      <td>umol.L-1</td>\n",
       "      <td>103</td>\n",
       "      <td>103</td>\n",
       "    </tr>\n",
       "    <tr>\n",
       "      <th>64</th>\n",
       "      <td>CHEMBL4011010</td>\n",
       "      <td>F</td>\n",
       "      <td>Mycobacterium tuberculosis variant bovis BCG</td>\n",
       "      <td>ORGANISM</td>\n",
       "      <td>CHEMBL613086</td>\n",
       "      <td>Mycobacterium tuberculosis variant bovis</td>\n",
       "      <td>MIC90</td>\n",
       "      <td>umol.L-1</td>\n",
       "      <td>103</td>\n",
       "      <td>103</td>\n",
       "    </tr>\n",
       "    <tr>\n",
       "      <th>65</th>\n",
       "      <td>CHEMBL1115629</td>\n",
       "      <td>F</td>\n",
       "      <td>Mycobacterium tuberculosis</td>\n",
       "      <td>ORGANISM</td>\n",
       "      <td>CHEMBL360</td>\n",
       "      <td>Mycobacterium tuberculosis</td>\n",
       "      <td>MIC</td>\n",
       "      <td>umol.L-1</td>\n",
       "      <td>103</td>\n",
       "      <td>103</td>\n",
       "    </tr>\n",
       "    <tr>\n",
       "      <th>66</th>\n",
       "      <td>CHEMBL4384698</td>\n",
       "      <td>B</td>\n",
       "      <td>Mycobacterium tuberculosis</td>\n",
       "      <td>UNCHECKED</td>\n",
       "      <td>CHEMBL612545</td>\n",
       "      <td>NaN</td>\n",
       "      <td>IC50</td>\n",
       "      <td>umol.L-1</td>\n",
       "      <td>104</td>\n",
       "      <td>102</td>\n",
       "    </tr>\n",
       "  </tbody>\n",
       "</table>\n",
       "<p>67 rows × 10 columns</p>\n",
       "</div>"
      ],
      "text/plain": [
       "         assay_id assay_type                                assay_organism  \\\n",
       "0   CHEMBL4649948          F                    Mycobacterium tuberculosis   \n",
       "1   CHEMBL4649949          F                    Mycobacterium tuberculosis   \n",
       "2   CHEMBL4649971          F                    Mycobacterium tuberculosis   \n",
       "3   CHEMBL4649972          F                    Mycobacterium tuberculosis   \n",
       "4   CHEMBL4649941          F                    Mycobacterium tuberculosis   \n",
       "..            ...        ...                                           ...   \n",
       "62  CHEMBL4011046          F                    Mycobacterium tuberculosis   \n",
       "63  CHEMBL1115630          F                    Mycobacterium tuberculosis   \n",
       "64  CHEMBL4011010          F  Mycobacterium tuberculosis variant bovis BCG   \n",
       "65  CHEMBL1115629          F                    Mycobacterium tuberculosis   \n",
       "66  CHEMBL4384698          B                    Mycobacterium tuberculosis   \n",
       "\n",
       "        target_type target_chembl_id  \\\n",
       "0         UNCHECKED     CHEMBL612545   \n",
       "1         UNCHECKED     CHEMBL612545   \n",
       "2          ORGANISM        CHEMBL360   \n",
       "3   PROTEIN COMPLEX    CHEMBL4662931   \n",
       "4    SINGLE PROTEIN    CHEMBL4662928   \n",
       "..              ...              ...   \n",
       "62         ORGANISM        CHEMBL360   \n",
       "63         ORGANISM        CHEMBL360   \n",
       "64         ORGANISM     CHEMBL613086   \n",
       "65         ORGANISM        CHEMBL360   \n",
       "66        UNCHECKED     CHEMBL612545   \n",
       "\n",
       "                                      target_organism  activity_type  \\\n",
       "0                                                 NaN  PERCENTEFFECT   \n",
       "1                                                 NaN  PERCENTEFFECT   \n",
       "2                          Mycobacterium tuberculosis  PERCENTEFFECT   \n",
       "3   Mycobacterium tuberculosis (strain ATCC 25618 ...  PERCENTEFFECT   \n",
       "4   Mycobacterium tuberculosis (strain ATCC 25618 ...  PERCENTEFFECT   \n",
       "..                                                ...            ...   \n",
       "62                         Mycobacterium tuberculosis             GI   \n",
       "63                         Mycobacterium tuberculosis            MIC   \n",
       "64           Mycobacterium tuberculosis variant bovis          MIC90   \n",
       "65                         Mycobacterium tuberculosis            MIC   \n",
       "66                                                NaN           IC50   \n",
       "\n",
       "        unit  activities   cpds  \n",
       "0          %       93556  86590  \n",
       "1          %      101516  86576  \n",
       "2          %       68620  68614  \n",
       "3          %       68617  68611  \n",
       "4          %       67382  66942  \n",
       "..       ...         ...    ...  \n",
       "62         %         103    103  \n",
       "63  umol.L-1         103    103  \n",
       "64  umol.L-1         103    103  \n",
       "65  umol.L-1         103    103  \n",
       "66  umol.L-1         104    102  \n",
       "\n",
       "[67 rows x 10 columns]"
      ]
     },
     "execution_count": 11,
     "metadata": {},
     "output_type": "execute_result"
    }
   ],
   "source": [
    "ASSAYS_INFO"
   ]
  },
  {
   "cell_type": "code",
   "execution_count": 42,
   "id": "0bc35c9d",
   "metadata": {},
   "outputs": [],
   "source": [
    "assays = pd.read_csv(\"../config/chembl_activities/assays.csv\", low_memory=False)\n",
    "docs = pd.read_csv(\"../config/chembl_activities/docs.csv\", low_memory=False)"
   ]
  },
  {
   "cell_type": "code",
   "execution_count": 43,
   "id": "368da81c",
   "metadata": {},
   "outputs": [
    {
     "data": {
      "text/plain": [
       "(Index(['assay_id', 'doc_id', 'description', 'assay_type', 'assay_test_type',\n",
       "        'assay_category', 'assay_organism', 'assay_tax_id', 'assay_strain',\n",
       "        'assay_tissue', 'assay_cell_type', 'assay_subcellular_fraction', 'tid',\n",
       "        'relationship_type', 'confidence_score', 'curated_by', 'src_id',\n",
       "        'src_assay_id', 'chembl_id', 'cell_id', 'bao_format', 'tissue_id',\n",
       "        'variant_id', 'aidx', 'assay_group'],\n",
       "       dtype='object'),\n",
       " Index(['doc_id', 'journal', 'year', 'volume', 'issue', 'first_page',\n",
       "        'last_page', 'pubmed_id', 'doi', 'chembl_id', 'title', 'doc_type',\n",
       "        'authors', 'abstract', 'patent_id', 'ridx', 'src_id',\n",
       "        'chembl_release_id', 'contact'],\n",
       "       dtype='object'))"
      ]
     },
     "execution_count": 43,
     "metadata": {},
     "output_type": "execute_result"
    }
   ],
   "source": [
    "assays.columns, docs.columns"
   ]
  },
  {
   "cell_type": "code",
   "execution_count": 33,
   "id": "d16326a9",
   "metadata": {},
   "outputs": [],
   "source": [
    "assay_type_map = {\"F\": \"Functional\",\"B\": \"Binding\",\"T\": \"Toxicity\",\"A\": \"ADME\",\"P\": \"Physicochemical\",\"U\": \"Uncategorized\"}"
   ]
  },
  {
   "cell_type": "code",
   "execution_count": 54,
   "id": "495df8a4",
   "metadata": {},
   "outputs": [
    {
     "data": {
      "text/plain": [
       "Index(['doc_id', 'journal', 'year', 'volume', 'issue', 'first_page',\n",
       "       'last_page', 'pubmed_id', 'doi', 'chembl_id', 'title', 'doc_type',\n",
       "       'authors', 'abstract', 'patent_id', 'ridx', 'src_id',\n",
       "       'chembl_release_id', 'contact'],\n",
       "      dtype='object')"
      ]
     },
     "execution_count": 54,
     "metadata": {},
     "output_type": "execute_result"
    }
   ],
   "source": [
    "docs.columns"
   ]
  },
  {
   "cell_type": "code",
   "execution_count": 72,
   "id": "0def18dd",
   "metadata": {},
   "outputs": [
    {
     "name": "stdout",
     "output_type": "stream",
     "text": [
      "Assay ID: CHEMBL4649948\n",
      "Assay type: Functional\n",
      "Assay Organism: Mycobacterium tuberculosis\n",
      "Assay description: Phenotypic growth assay for Mycobacterium tuberculosis grown for 4 days on DPPC, cholesterol, tyloxapol based media\n",
      "Document title: University of Dundee, Small-Polar-MMV Screening Library\n",
      "Document abstract: nan\n",
      "Document journal: nan\n",
      "Document PubMed ID: nan\n",
      "Document DOI: 10.6019/CHEMBL3988442\n",
      "Target type: UNCHECKED\n",
      "Target Organism: nan\n",
      "Activity Type: PERCENTEFFECT\n",
      "Unit: %\n",
      "Number of activities: 93556\n",
      "Number of compounds: 86590\n",
      "Percentile 1: -40.22\n",
      "Percentile 25: -10.67\n",
      "Mean: -1.267\n",
      "Median: -1.728\n",
      "Percentile 75: 7.254\n",
      "Percentile 99: 57.08\n"
     ]
    }
   ],
   "source": [
    "for i in ASSAYS_INFO[['assay_type', 'assay_organism', 'target_type', 'target_organism', 'activity_type', 'unit', 'activities', 'cpds', 'assay_id']].values:\n",
    "    \n",
    "    print(f\"Assay ID: {i[8]}\")\n",
    "    print(f\"Assay type: {assay_type_map[i[0]]}\")\n",
    "    print(f\"Assay Organism: {i[1]}\")\n",
    "    print(f\"Assay description: {assays[assays['chembl_id'] == i[8]]['description'].tolist()[0]}\")\n",
    "\n",
    "    doc_id = assays[assays['chembl_id'] == i[8]]['doc_id'].tolist()[0]\n",
    "\n",
    "    print(f\"Document title: {docs[docs['doc_id'] == doc_id]['title'].tolist()[0]}\")\n",
    "    print(f\"Document abstract: {docs[docs['doc_id'] == doc_id]['abstract'].tolist()[0]}\")\n",
    "    print(f\"Document journal: {docs[docs['doc_id'] == doc_id]['journal'].tolist()[0]}\")\n",
    "    print(f\"Document PubMed ID: {docs[docs['doc_id'] == doc_id]['pubmed_id'].tolist()[0]}\")\n",
    "    print(f\"Document DOI: {docs[docs['doc_id'] == doc_id]['doi'].tolist()[0]}\")\n",
    "\n",
    "    print(f\"Target type: {i[2]}\")\n",
    "    print(f\"Target Organism: {i[3]}\")\n",
    "\n",
    "    print(f\"Activity Type: {i[4]}\")\n",
    "    print(f\"Unit: {i[5]}\")\n",
    "    print(f\"Number of activities: {i[6]}\")\n",
    "    print(f\"Number of compounds: {i[7]}\")\n",
    "\n",
    "    assay_activities = ChEMBL = ChEMBL[(ChEMBL['assay_chembl_id'] == i[8]) & (ChEMBL['activity_type'] == i[4]) & (ChEMBL['unit'] == i[5])]\n",
    "    assay_activities = assay_activities[\"value\"].astype(float).tolist()\n",
    "\n",
    "    print(f\"Percentile 1: {round(np.percentile(assay_activities, 1), 3)}\")\n",
    "    print(f\"Percentile 25: {round(np.percentile(assay_activities, 25), 3)}\")\n",
    "    print(f\"Mean: {round(np.mean(assay_activities), 3)}\")\n",
    "    print(f\"Median: {round(np.percentile(assay_activities, 50), 3)}\")\n",
    "    print(f\"Percentile 75: {round(np.percentile(assay_activities, 75), 3)}\")\n",
    "    print(f\"Percentile 99: {round(np.percentile(assay_activities, 99), 3)}\")\n",
    "\n",
    "    break"
   ]
  },
  {
   "cell_type": "code",
   "execution_count": 73,
   "id": "be9454bc",
   "metadata": {},
   "outputs": [
    {
     "data": {
      "text/plain": [
       "103486"
      ]
     },
     "execution_count": 73,
     "metadata": {},
     "output_type": "execute_result"
    }
   ],
   "source": [
    "doc_id"
   ]
  },
  {
   "cell_type": "code",
   "execution_count": null,
   "id": "1392790a",
   "metadata": {},
   "outputs": [],
   "source": [
    "# # Assay chembl id to assay id\n",
    "# assay_chemblid_to_assayid = {i: j for i,j in zip(ChEMBL['assay_chembl_id'], ChEMBL['assay_id'])}\n",
    "# ASSAYS_INFO['target_pref_name'] = [target_chemblid_to_name[i] for i in ASSAYS_INFO['target_chembl_id']]\n",
    "# ASSAYS_INFO['doc_id'] = [assayid_to_docid[assay_chemblid_to_assayid[i]] for i in ASSAYS_INFO['assay_id']]"
   ]
  },
  {
   "cell_type": "code",
   "execution_count": null,
   "id": "a43258a0",
   "metadata": {},
   "outputs": [],
   "source": [
    "print(\"Number of target organisms:\", len(set(ASSAYS_INFO['target_organism'])))\n",
    "print(\"Number of assays:\", len(set(ASSAYS_INFO['assay_id'])))\n",
    "print(\"Assay types:\", Counter(ASSAYS_INFO['assay_type']))\n",
    "print(\"Target types:\", Counter(ASSAYS_INFO['target_type']))\n",
    "print(f\"Act type - unit pairs: {len(Counter([(i,j) for i,j in zip(ASSAYS_INFO['activity_type'], ASSAYS_INFO['unit'])]))}\")"
   ]
  },
  {
   "cell_type": "code",
   "execution_count": null,
   "id": "cf3286c5",
   "metadata": {},
   "outputs": [],
   "source": [
    "len(Counter(ASSAYS_INFO['target_chembl_id']))"
   ]
  },
  {
   "cell_type": "code",
   "execution_count": null,
   "id": "26eb269d",
   "metadata": {},
   "outputs": [],
   "source": []
  }
 ],
 "metadata": {
  "kernelspec": {
   "display_name": "camt",
   "language": "python",
   "name": "python3"
  },
  "language_info": {
   "codemirror_mode": {
    "name": "ipython",
    "version": 3
   },
   "file_extension": ".py",
   "mimetype": "text/x-python",
   "name": "python",
   "nbconvert_exporter": "python",
   "pygments_lexer": "ipython3",
   "version": "3.10.18"
  }
 },
 "nbformat": 4,
 "nbformat_minor": 5
}
