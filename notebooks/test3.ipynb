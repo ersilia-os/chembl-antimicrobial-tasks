{
 "cells": [
  {
   "cell_type": "code",
   "execution_count": 1,
   "id": "fa10c6a3",
   "metadata": {},
   "outputs": [
    {
     "name": "stdout",
     "output_type": "stream",
     "text": [
      "Loading ChEMBL preprocessed data...\n",
      "Original size: 24267312\n",
      "Filtering out nan values...\n",
      "Size after filtering nan values: 20911360\n"
     ]
    }
   ],
   "source": [
    "import matplotlib.pyplot as plt\n",
    "from collections import Counter\n",
    "from tqdm import tqdm\n",
    "import pandas as pd\n",
    "import numpy as np\n",
    "import sys\n",
    "import os\n",
    "\n",
    "# Define root directory\n",
    "root = \".\"\n",
    "sys.path.append(os.path.join(root, \"..\", \"src\"))\n",
    "from default import CONFIGPATH\n",
    "\n",
    "# Loading ChEMBL preprocessed data\n",
    "print(\"Loading ChEMBL preprocessed data...\")\n",
    "ChEMBL = pd.read_csv(os.path.join(root, \"..\", \"config\", \"chembl_processed\", \"activities_preprocessed.csv\"), low_memory=False)\n",
    "print(f\"Original size: {len(ChEMBL)}\")\n",
    "print(\"Filtering out nan values...\")\n",
    "ChEMBL = ChEMBL[ChEMBL['value'].isna() == False].reset_index(drop=True)\n",
    "print(f\"Size after filtering nan values: {len(ChEMBL)}\")\n",
    "\n",
    "# Load directionality\n",
    "direction = pd.read_csv(os.path.join(CONFIGPATH, \"manual_curation\", \"activity_std_units_curated_manual_curation.csv\"))\n",
    "direction = direction[direction['manual_curation'].isna() == False]\n",
    "direction = {(i,j): int(k) for i,j,k in zip(direction['activity_type'], direction['unit'], direction['manual_curation'])}\n",
    "\n",
    "# List of pathogens to process\n",
    "pathogens = [\"Mycobacterium tuberculosis\"]"
   ]
  },
  {
   "cell_type": "code",
   "execution_count": 2,
   "id": "0c5c7d8d",
   "metadata": {},
   "outputs": [],
   "source": [
    "def get_assay_data(ChEMBL_, assay_id, activity_type, unit):\n",
    "    if pd.isna(unit):\n",
    "        assay_data = ChEMBL_[(ChEMBL_['assay_chembl_id'] == assay_id) & (ChEMBL_['activity_type'] == activity_type) & \n",
    "                                    (ChEMBL_['unit'].isna() == True) & (ChEMBL_['canonical_smiles'].isna() == False)]\n",
    "    else:\n",
    "        assay_data = ChEMBL_[(ChEMBL_['assay_chembl_id'] == assay_id) & (ChEMBL_['activity_type'] == activity_type) & \n",
    "                                    (ChEMBL_['unit'] == unit) & (ChEMBL_['canonical_smiles'].isna() == False)]\n",
    "    return assay_data\n",
    "\n",
    "\n",
    "def get_direction(activity_type, unit, direction):\n",
    "    if (activity_type, unit) not in direction:\n",
    "        raise ValueError(f\"Activity type - unit not in direction dict: {activity_type} - {unit}. Curate manually.\")\n",
    "    else:\n",
    "        return direction[(activity_type, unit)]\n"
   ]
  },
  {
   "cell_type": "code",
   "execution_count": 3,
   "id": "2ce1934d",
   "metadata": {},
   "outputs": [
    {
     "name": "stdout",
     "output_type": "stream",
     "text": [
      "\n",
      "\n",
      "Filtering data from pathogen: mtuberculosis...\n",
      "Number of activities for Mycobacterium tuberculosis: 706206\n",
      "Original number of assays: 11346\n"
     ]
    }
   ],
   "source": [
    "# For each pathogen\n",
    "for pathogen in pathogens:\n",
    "    \n",
    "    # Get assays info\n",
    "    pathogen_code = str(pathogen.split()[0][0] + pathogen.split()[1]).lower()\n",
    "    print(f\"\\n\\nFiltering data from pathogen: {pathogen_code}...\")\n",
    "    ChEMBL_ = ChEMBL[ChEMBL['target_organism'].str.contains(pathogen, case=False, na=False) | \n",
    "                    ChEMBL['assay_organism'].str.contains(pathogen, case=False, na=False)].reset_index(drop=True)\n",
    "    \n",
    "    # Load assays\n",
    "    print(f\"Number of activities for {pathogen}: {len(ChEMBL_)}\")\n",
    "    ASSAYS_INFO = pd.read_csv(os.path.join(root, \"..\", \"output\", pathogen_code, 'assays.csv'))\n",
    "    ASSAYS_INFO = ASSAYS_INFO[['assay_id', 'activity_type', 'unit', 'activities', 'cpds']].copy()\n",
    "    print(f\"Original number of assays: {len(ASSAYS_INFO)}\")"
   ]
  },
  {
   "cell_type": "code",
   "execution_count": 9,
   "id": "3c50eaae",
   "metadata": {},
   "outputs": [
    {
     "data": {
      "text/html": [
       "<div>\n",
       "<style scoped>\n",
       "    .dataframe tbody tr th:only-of-type {\n",
       "        vertical-align: middle;\n",
       "    }\n",
       "\n",
       "    .dataframe tbody tr th {\n",
       "        vertical-align: top;\n",
       "    }\n",
       "\n",
       "    .dataframe thead th {\n",
       "        text-align: right;\n",
       "    }\n",
       "</style>\n",
       "<table border=\"1\" class=\"dataframe\">\n",
       "  <thead>\n",
       "    <tr style=\"text-align: right;\">\n",
       "      <th></th>\n",
       "      <th>assay_id</th>\n",
       "      <th>activity_type</th>\n",
       "      <th>unit</th>\n",
       "      <th>activities</th>\n",
       "      <th>cpds</th>\n",
       "    </tr>\n",
       "  </thead>\n",
       "  <tbody>\n",
       "    <tr>\n",
       "      <th>0</th>\n",
       "      <td>CHEMBL4649948</td>\n",
       "      <td>PERCENTEFFECT</td>\n",
       "      <td>%</td>\n",
       "      <td>93556</td>\n",
       "      <td>86590</td>\n",
       "    </tr>\n",
       "    <tr>\n",
       "      <th>1</th>\n",
       "      <td>CHEMBL4649949</td>\n",
       "      <td>PERCENTEFFECT</td>\n",
       "      <td>%</td>\n",
       "      <td>101516</td>\n",
       "      <td>86576</td>\n",
       "    </tr>\n",
       "    <tr>\n",
       "      <th>2</th>\n",
       "      <td>CHEMBL4649971</td>\n",
       "      <td>PERCENTEFFECT</td>\n",
       "      <td>%</td>\n",
       "      <td>68620</td>\n",
       "      <td>68614</td>\n",
       "    </tr>\n",
       "    <tr>\n",
       "      <th>3</th>\n",
       "      <td>CHEMBL4649972</td>\n",
       "      <td>PERCENTEFFECT</td>\n",
       "      <td>%</td>\n",
       "      <td>68617</td>\n",
       "      <td>68611</td>\n",
       "    </tr>\n",
       "    <tr>\n",
       "      <th>4</th>\n",
       "      <td>CHEMBL4649941</td>\n",
       "      <td>PERCENTEFFECT</td>\n",
       "      <td>%</td>\n",
       "      <td>67382</td>\n",
       "      <td>66942</td>\n",
       "    </tr>\n",
       "    <tr>\n",
       "      <th>...</th>\n",
       "      <td>...</td>\n",
       "      <td>...</td>\n",
       "      <td>...</td>\n",
       "      <td>...</td>\n",
       "      <td>...</td>\n",
       "    </tr>\n",
       "    <tr>\n",
       "      <th>11341</th>\n",
       "      <td>CHEMBL4434512</td>\n",
       "      <td>MIC</td>\n",
       "      <td>umol.L-1</td>\n",
       "      <td>1</td>\n",
       "      <td>1</td>\n",
       "    </tr>\n",
       "    <tr>\n",
       "      <th>11342</th>\n",
       "      <td>CHEMBL4434511</td>\n",
       "      <td>IC90</td>\n",
       "      <td>umol.L-1</td>\n",
       "      <td>1</td>\n",
       "      <td>1</td>\n",
       "    </tr>\n",
       "    <tr>\n",
       "      <th>11343</th>\n",
       "      <td>CHEMBL1675908</td>\n",
       "      <td>LOG10CFU</td>\n",
       "      <td>NaN</td>\n",
       "      <td>1</td>\n",
       "      <td>1</td>\n",
       "    </tr>\n",
       "    <tr>\n",
       "      <th>11344</th>\n",
       "      <td>CHEMBL1676664</td>\n",
       "      <td>MIC</td>\n",
       "      <td>umol.L-1</td>\n",
       "      <td>1</td>\n",
       "      <td>1</td>\n",
       "    </tr>\n",
       "    <tr>\n",
       "      <th>11345</th>\n",
       "      <td>CHEMBL4147594</td>\n",
       "      <td>IC50</td>\n",
       "      <td>umol.L-1</td>\n",
       "      <td>1</td>\n",
       "      <td>1</td>\n",
       "    </tr>\n",
       "  </tbody>\n",
       "</table>\n",
       "<p>11346 rows × 5 columns</p>\n",
       "</div>"
      ],
      "text/plain": [
       "            assay_id  activity_type      unit  activities   cpds\n",
       "0      CHEMBL4649948  PERCENTEFFECT         %       93556  86590\n",
       "1      CHEMBL4649949  PERCENTEFFECT         %      101516  86576\n",
       "2      CHEMBL4649971  PERCENTEFFECT         %       68620  68614\n",
       "3      CHEMBL4649972  PERCENTEFFECT         %       68617  68611\n",
       "4      CHEMBL4649941  PERCENTEFFECT         %       67382  66942\n",
       "...              ...            ...       ...         ...    ...\n",
       "11341  CHEMBL4434512            MIC  umol.L-1           1      1\n",
       "11342  CHEMBL4434511           IC90  umol.L-1           1      1\n",
       "11343  CHEMBL1675908       LOG10CFU       NaN           1      1\n",
       "11344  CHEMBL1676664            MIC  umol.L-1           1      1\n",
       "11345  CHEMBL4147594           IC50  umol.L-1           1      1\n",
       "\n",
       "[11346 rows x 5 columns]"
      ]
     },
     "execution_count": 9,
     "metadata": {},
     "output_type": "execute_result"
    }
   ],
   "source": [
    "ASSAYS_INFO"
   ]
  },
  {
   "cell_type": "code",
   "execution_count": 10,
   "id": "b8dfb817",
   "metadata": {},
   "outputs": [
    {
     "data": {
      "text/plain": [
       "Counter({0: 699095, 1: 5720, -1: 1391})"
      ]
     },
     "execution_count": 10,
     "metadata": {},
     "output_type": "execute_result"
    }
   ],
   "source": [
    "Counter(ChEMBL_['activity_comment'])"
   ]
  },
  {
   "cell_type": "code",
   "execution_count": 7,
   "id": "3a6d4aa5",
   "metadata": {},
   "outputs": [
    {
     "name": "stderr",
     "output_type": "stream",
     "text": [
      "  0%|          | 2/11346 [00:00<20:35,  9.18it/s]"
     ]
    },
    {
     "name": "stdout",
     "output_type": "stream",
     "text": [
      "CHEMBL4649948  --  0\n",
      "CHEMBL4649949  --  0\n"
     ]
    },
    {
     "name": "stderr",
     "output_type": "stream",
     "text": [
      "  0%|          | 4/11346 [00:00<20:05,  9.41it/s]"
     ]
    },
    {
     "name": "stdout",
     "output_type": "stream",
     "text": [
      "CHEMBL4649971  --  0\n",
      "CHEMBL4649972  --  0\n"
     ]
    },
    {
     "name": "stderr",
     "output_type": "stream",
     "text": [
      "  0%|          | 6/11346 [00:00<20:57,  9.02it/s]"
     ]
    },
    {
     "name": "stdout",
     "output_type": "stream",
     "text": [
      "CHEMBL4649941  --  0\n",
      "CHEMBL4649965  --  0\n"
     ]
    },
    {
     "name": "stderr",
     "output_type": "stream",
     "text": [
      "  0%|          | 8/11346 [00:00<20:20,  9.29it/s]"
     ]
    },
    {
     "name": "stdout",
     "output_type": "stream",
     "text": [
      "CHEMBL4649957  --  0\n",
      "CHEMBL4649961  --  0\n",
      "CHEMBL4649947  --  0\n"
     ]
    },
    {
     "name": "stderr",
     "output_type": "stream",
     "text": [
      "  0%|          | 12/11346 [00:01<18:57,  9.96it/s]"
     ]
    },
    {
     "name": "stdout",
     "output_type": "stream",
     "text": [
      "CHEMBL4649949  --  0\n",
      "CHEMBL4649948  --  0\n",
      "CHEMBL1794349  --  0\n"
     ]
    },
    {
     "name": "stderr",
     "output_type": "stream",
     "text": [
      "  0%|          | 15/11346 [00:01<18:46, 10.06it/s]"
     ]
    },
    {
     "name": "stdout",
     "output_type": "stream",
     "text": [
      "CHEMBL1794426  --  0\n",
      "CHEMBL1794324  --  0\n",
      "CHEMBL2098495  --  0\n"
     ]
    },
    {
     "name": "stderr",
     "output_type": "stream",
     "text": [
      "  0%|          | 17/11346 [00:01<18:41, 10.10it/s]"
     ]
    },
    {
     "name": "stdout",
     "output_type": "stream",
     "text": [
      "CHEMBL4649972  --  0\n",
      "CHEMBL4649957  --  0\n",
      "CHEMBL4649941  --  0\n"
     ]
    },
    {
     "name": "stderr",
     "output_type": "stream",
     "text": [
      "  0%|          | 21/11346 [00:02<18:20, 10.29it/s]"
     ]
    },
    {
     "name": "stdout",
     "output_type": "stream",
     "text": [
      "CHEMBL2094262  --  0\n",
      "CHEMBL2094261  --  0\n",
      "CHEMBL2114816  --  0\n"
     ]
    },
    {
     "name": "stderr",
     "output_type": "stream",
     "text": [
      "  0%|          | 23/11346 [00:02<18:22, 10.27it/s]"
     ]
    },
    {
     "name": "stdout",
     "output_type": "stream",
     "text": [
      "CHEMBL4649965  --  0\n",
      "CHEMBL2114860  --  0\n",
      "CHEMBL4649971  --  0\n"
     ]
    },
    {
     "name": "stderr",
     "output_type": "stream",
     "text": [
      "  0%|          | 27/11346 [00:02<18:15, 10.33it/s]"
     ]
    },
    {
     "name": "stdout",
     "output_type": "stream",
     "text": [
      "CHEMBL2098496  --  0\n",
      "CHEMBL2354305  --  0\n",
      "CHEMBL5345967  --  0\n"
     ]
    },
    {
     "name": "stderr",
     "output_type": "stream",
     "text": [
      "  0%|          | 29/11346 [00:02<18:23, 10.25it/s]"
     ]
    },
    {
     "name": "stdout",
     "output_type": "stream",
     "text": [
      "CHEMBL5345966  --  0\n",
      "CHEMBL4333704  --  0\n",
      "CHEMBL4388634  --  0\n"
     ]
    },
    {
     "name": "stderr",
     "output_type": "stream",
     "text": [
      "  0%|          | 33/11346 [00:03<18:16, 10.32it/s]"
     ]
    },
    {
     "name": "stdout",
     "output_type": "stream",
     "text": [
      "CHEMBL4388638  --  0\n",
      "CHEMBL2032580  --  0\n",
      "CHEMBL3857706  --  0\n"
     ]
    },
    {
     "name": "stderr",
     "output_type": "stream",
     "text": [
      "  0%|          | 35/11346 [00:03<18:14, 10.34it/s]"
     ]
    },
    {
     "name": "stdout",
     "output_type": "stream",
     "text": [
      "CHEMBL1614471  --  0\n",
      "CHEMBL3887425  --  0\n",
      "CHEMBL1634496  --  0\n"
     ]
    },
    {
     "name": "stderr",
     "output_type": "stream",
     "text": [
      "  0%|          | 39/11346 [00:03<18:08, 10.39it/s]"
     ]
    },
    {
     "name": "stdout",
     "output_type": "stream",
     "text": [
      "CHEMBL1634497  --  0\n",
      "CHEMBL747348  --  0\n",
      "CHEMBL1049618  --  0\n"
     ]
    },
    {
     "name": "stderr",
     "output_type": "stream",
     "text": [
      "  0%|          | 41/11346 [00:04<18:09, 10.38it/s]"
     ]
    },
    {
     "name": "stdout",
     "output_type": "stream",
     "text": [
      "CHEMBL3832763  --  0\n",
      "CHEMBL3832764  --  0\n",
      "CHEMBL3832777  --  0\n"
     ]
    },
    {
     "name": "stderr",
     "output_type": "stream",
     "text": [
      "  0%|          | 45/11346 [00:04<18:08, 10.38it/s]"
     ]
    },
    {
     "name": "stdout",
     "output_type": "stream",
     "text": [
      "CHEMBL3832776  --  0\n",
      "CHEMBL3832775  --  0\n",
      "CHEMBL3832765  --  0\n"
     ]
    },
    {
     "name": "stderr",
     "output_type": "stream",
     "text": [
      "  0%|          | 47/11346 [00:04<18:09, 10.37it/s]"
     ]
    },
    {
     "name": "stdout",
     "output_type": "stream",
     "text": [
      "CHEMBL1049617  --  0\n",
      "CHEMBL3832766  --  0\n",
      "CHEMBL3832772  --  0\n"
     ]
    },
    {
     "name": "stderr",
     "output_type": "stream",
     "text": [
      "  0%|          | 51/11346 [00:05<18:09, 10.37it/s]"
     ]
    },
    {
     "name": "stdout",
     "output_type": "stream",
     "text": [
      "CHEMBL3832767  --  0\n",
      "CHEMBL3832770  --  0\n",
      "CHEMBL3832773  --  0\n"
     ]
    },
    {
     "name": "stderr",
     "output_type": "stream",
     "text": [
      "  0%|          | 53/11346 [00:05<18:13, 10.33it/s]"
     ]
    },
    {
     "name": "stdout",
     "output_type": "stream",
     "text": [
      "CHEMBL3832774  --  0\n",
      "CHEMBL3832771  --  0\n",
      "CHEMBL3832769  --  0\n"
     ]
    },
    {
     "name": "stderr",
     "output_type": "stream",
     "text": [
      "  0%|          | 55/11346 [00:05<18:28, 10.18it/s]"
     ]
    },
    {
     "name": "stdout",
     "output_type": "stream",
     "text": [
      "CHEMBL3832768  --  0\n",
      "CHEMBL5246903  --  0\n"
     ]
    },
    {
     "name": "stderr",
     "output_type": "stream",
     "text": [
      "  1%|          | 59/11346 [00:05<18:36, 10.11it/s]"
     ]
    },
    {
     "name": "stdout",
     "output_type": "stream",
     "text": [
      "CHEMBL1839642  --  0\n",
      "CHEMBL1839643  --  0\n",
      "CHEMBL4879906  --  0\n"
     ]
    },
    {
     "name": "stderr",
     "output_type": "stream",
     "text": [
      "  1%|          | 61/11346 [00:06<18:38, 10.09it/s]"
     ]
    },
    {
     "name": "stdout",
     "output_type": "stream",
     "text": [
      "CHEMBL4384699  --  0\n",
      "CHEMBL4011046  --  0\n",
      "CHEMBL4011042  --  0\n"
     ]
    },
    {
     "name": "stderr",
     "output_type": "stream",
     "text": [
      "  1%|          | 65/11346 [00:06<18:21, 10.24it/s]"
     ]
    },
    {
     "name": "stdout",
     "output_type": "stream",
     "text": [
      "CHEMBL1115629  --  0\n",
      "CHEMBL4011010  --  0\n",
      "CHEMBL4011010  --  0\n"
     ]
    },
    {
     "name": "stderr",
     "output_type": "stream",
     "text": [
      "  1%|          | 67/11346 [00:06<18:14, 10.30it/s]"
     ]
    },
    {
     "name": "stdout",
     "output_type": "stream",
     "text": [
      "CHEMBL1115630  --  0\n",
      "CHEMBL4384698  --  0\n",
      "CHEMBL1948972  --  0\n"
     ]
    },
    {
     "name": "stderr",
     "output_type": "stream",
     "text": [
      "  1%|          | 69/11346 [00:06<18:02, 10.41it/s]"
     ]
    },
    {
     "name": "stdout",
     "output_type": "stream",
     "text": [
      "CHEMBL1948971  --  0\n",
      "CHEMBL4150258  --  0\n"
     ]
    },
    {
     "name": "stderr",
     "output_type": "stream",
     "text": [
      "  1%|          | 73/11346 [00:07<18:23, 10.21it/s]"
     ]
    },
    {
     "name": "stdout",
     "output_type": "stream",
     "text": [
      "CHEMBL4150258  --  0\n",
      "CHEMBL3832762  --  0\n",
      "CHEMBL3832806  --  0\n"
     ]
    },
    {
     "name": "stderr",
     "output_type": "stream",
     "text": [
      "  1%|          | 75/11346 [00:07<18:27, 10.18it/s]"
     ]
    },
    {
     "name": "stdout",
     "output_type": "stream",
     "text": [
      "CHEMBL2423609  --  0\n",
      "CHEMBL3270179  --  0\n",
      "CHEMBL940872  --  0\n"
     ]
    },
    {
     "name": "stderr",
     "output_type": "stream",
     "text": [
      "  1%|          | 79/11346 [00:07<18:11, 10.32it/s]"
     ]
    },
    {
     "name": "stdout",
     "output_type": "stream",
     "text": [
      "CHEMBL3270180  --  0\n",
      "CHEMBL3267866  --  0\n",
      "CHEMBL2318567  --  0\n"
     ]
    },
    {
     "name": "stderr",
     "output_type": "stream",
     "text": [
      "  1%|          | 81/11346 [00:07<18:05, 10.38it/s]"
     ]
    },
    {
     "name": "stdout",
     "output_type": "stream",
     "text": [
      "CHEMBL5156632  --  0\n",
      "CHEMBL3387309  --  0\n",
      "CHEMBL4841891  --  0\n"
     ]
    },
    {
     "name": "stderr",
     "output_type": "stream",
     "text": [
      "  1%|          | 85/11346 [00:08<18:02, 10.40it/s]"
     ]
    },
    {
     "name": "stdout",
     "output_type": "stream",
     "text": [
      "CHEMBL3382519  --  0\n",
      "CHEMBL5156633  --  0\n",
      "CHEMBL893310  --  0\n"
     ]
    },
    {
     "name": "stderr",
     "output_type": "stream",
     "text": [
      "  1%|          | 87/11346 [00:08<18:03, 10.39it/s]"
     ]
    },
    {
     "name": "stdout",
     "output_type": "stream",
     "text": [
      "CHEMBL2329977  --  0\n",
      "CHEMBL4425486  --  0\n",
      "CHEMBL3096848  --  0\n"
     ]
    },
    {
     "name": "stderr",
     "output_type": "stream",
     "text": [
      "  1%|          | 91/11346 [00:08<17:56, 10.46it/s]"
     ]
    },
    {
     "name": "stdout",
     "output_type": "stream",
     "text": [
      "CHEMBL3096848  --  0\n",
      "CHEMBL1212146  --  0\n",
      "CHEMBL746402  --  0\n"
     ]
    },
    {
     "name": "stderr",
     "output_type": "stream",
     "text": [
      "  1%|          | 93/11346 [00:09<18:00, 10.41it/s]"
     ]
    },
    {
     "name": "stdout",
     "output_type": "stream",
     "text": [
      "CHEMBL3129228  --  0\n",
      "CHEMBL1794344  --  0\n",
      "CHEMBL1947387  --  0\n"
     ]
    },
    {
     "name": "stderr",
     "output_type": "stream",
     "text": [
      "  1%|          | 96/11346 [00:09<19:08,  9.79it/s]"
     ]
    },
    {
     "name": "stdout",
     "output_type": "stream",
     "text": [
      "CHEMBL1947388  --  0\n",
      "CHEMBL4155946  --  0\n",
      "CHEMBL5099097  --  0\n"
     ]
    },
    {
     "name": "stderr",
     "output_type": "stream",
     "text": [
      "  1%|          | 99/11346 [00:09<18:50,  9.95it/s]"
     ]
    },
    {
     "name": "stdout",
     "output_type": "stream",
     "text": [
      "CHEMBL2421470  --  0\n",
      "CHEMBL2447071  --  0\n",
      "CHEMBL2421471  --  0\n"
     ]
    },
    {
     "name": "stderr",
     "output_type": "stream",
     "text": [
      "  1%|          | 103/11346 [00:10<18:28, 10.14it/s]"
     ]
    },
    {
     "name": "stdout",
     "output_type": "stream",
     "text": [
      "CHEMBL2447069  --  0\n",
      "CHEMBL5627291  --  0\n",
      "CHEMBL3875318  --  0\n"
     ]
    },
    {
     "name": "stderr",
     "output_type": "stream",
     "text": [
      "  1%|          | 105/11346 [00:10<18:23, 10.18it/s]"
     ]
    },
    {
     "name": "stdout",
     "output_type": "stream",
     "text": [
      "CHEMBL1737995  --  0\n",
      "CHEMBL858888  --  0\n",
      "CHEMBL1018758  --  0\n"
     ]
    },
    {
     "name": "stderr",
     "output_type": "stream",
     "text": [
      "  1%|          | 109/11346 [00:10<18:20, 10.21it/s]"
     ]
    },
    {
     "name": "stdout",
     "output_type": "stream",
     "text": [
      "CHEMBL4052220  --  0\n",
      "CHEMBL4052219  --  0\n",
      "CHEMBL4135530  --  0\n"
     ]
    },
    {
     "name": "stderr",
     "output_type": "stream",
     "text": [
      "  1%|          | 111/11346 [00:10<18:11, 10.29it/s]"
     ]
    },
    {
     "name": "stdout",
     "output_type": "stream",
     "text": [
      "CHEMBL1918837  --  0\n",
      "CHEMBL4194982  --  0\n",
      "CHEMBL906555  --  0\n"
     ]
    },
    {
     "name": "stderr",
     "output_type": "stream",
     "text": [
      "  1%|          | 115/11346 [00:11<18:05, 10.34it/s]"
     ]
    },
    {
     "name": "stdout",
     "output_type": "stream",
     "text": [
      "CHEMBL1908450  --  0\n",
      "CHEMBL3619020  --  0\n",
      "CHEMBL2184408  --  0\n"
     ]
    },
    {
     "name": "stderr",
     "output_type": "stream",
     "text": [
      "  1%|          | 117/11346 [00:11<18:06, 10.33it/s]"
     ]
    },
    {
     "name": "stdout",
     "output_type": "stream",
     "text": [
      "CHEMBL4050695  --  0\n",
      "CHEMBL4406692  --  0\n",
      "CHEMBL4406693  --  0\n"
     ]
    },
    {
     "name": "stderr",
     "output_type": "stream",
     "text": [
      "  1%|          | 121/11346 [00:11<17:59, 10.40it/s]"
     ]
    },
    {
     "name": "stdout",
     "output_type": "stream",
     "text": [
      "CHEMBL4425484  --  0\n",
      "CHEMBL1019550  --  0\n",
      "CHEMBL750947  --  0\n"
     ]
    },
    {
     "name": "stderr",
     "output_type": "stream",
     "text": [
      "  1%|          | 123/11346 [00:12<18:00, 10.38it/s]"
     ]
    },
    {
     "name": "stdout",
     "output_type": "stream",
     "text": [
      "CHEMBL3375146  --  0\n",
      "CHEMBL3375147  --  0\n",
      "CHEMBL5329444  --  0\n"
     ]
    },
    {
     "name": "stderr",
     "output_type": "stream",
     "text": [
      "  1%|          | 127/11346 [00:12<18:02, 10.36it/s]"
     ]
    },
    {
     "name": "stdout",
     "output_type": "stream",
     "text": [
      "CHEMBL903345  --  0\n",
      "CHEMBL2157635  --  0\n",
      "CHEMBL3579627  --  0\n"
     ]
    },
    {
     "name": "stderr",
     "output_type": "stream",
     "text": [
      "  1%|          | 129/11346 [00:12<18:07, 10.32it/s]"
     ]
    },
    {
     "name": "stdout",
     "output_type": "stream",
     "text": [
      "CHEMBL3130168  --  0\n",
      "CHEMBL1825403  --  0\n",
      "CHEMBL2157637  --  0\n"
     ]
    },
    {
     "name": "stderr",
     "output_type": "stream",
     "text": [
      "  1%|          | 133/11346 [00:13<18:07, 10.31it/s]"
     ]
    },
    {
     "name": "stdout",
     "output_type": "stream",
     "text": [
      "CHEMBL3789231  --  0\n",
      "CHEMBL2157636  --  0\n",
      "CHEMBL2447070  --  0\n"
     ]
    },
    {
     "name": "stderr",
     "output_type": "stream",
     "text": [
      "  1%|          | 135/11346 [00:13<18:08, 10.30it/s]"
     ]
    },
    {
     "name": "stdout",
     "output_type": "stream",
     "text": [
      "CHEMBL3789232  --  0\n",
      "CHEMBL3748592  --  0\n",
      "CHEMBL2209271  --  0\n"
     ]
    },
    {
     "name": "stderr",
     "output_type": "stream",
     "text": [
      "  1%|          | 139/11346 [00:13<18:16, 10.22it/s]"
     ]
    },
    {
     "name": "stdout",
     "output_type": "stream",
     "text": [
      "CHEMBL5246869  --  0\n",
      "CHEMBL994234  --  0\n",
      "CHEMBL750948  --  0\n"
     ]
    },
    {
     "name": "stderr",
     "output_type": "stream",
     "text": [
      "  1%|          | 141/11346 [00:13<18:15, 10.23it/s]"
     ]
    },
    {
     "name": "stdout",
     "output_type": "stream",
     "text": [
      "CHEMBL3396596  --  0\n",
      "CHEMBL907779  --  0\n",
      "CHEMBL4221360  --  0\n"
     ]
    },
    {
     "name": "stderr",
     "output_type": "stream",
     "text": [
      "  1%|▏         | 145/11346 [00:14<18:29, 10.10it/s]"
     ]
    },
    {
     "name": "stdout",
     "output_type": "stream",
     "text": [
      "CHEMBL4307526  --  0\n",
      "CHEMBL5253350  --  0\n",
      "CHEMBL1104165  --  0\n"
     ]
    },
    {
     "name": "stderr",
     "output_type": "stream",
     "text": [
      "  1%|▏         | 147/11346 [00:14<19:27,  9.60it/s]"
     ]
    },
    {
     "name": "stdout",
     "output_type": "stream",
     "text": [
      "CHEMBL4221359  --  0\n",
      "CHEMBL4384233  --  0\n",
      "CHEMBL4384231  --  0\n"
     ]
    },
    {
     "name": "stderr",
     "output_type": "stream",
     "text": [
      "  1%|▏         | 151/11346 [00:14<18:39, 10.00it/s]"
     ]
    },
    {
     "name": "stdout",
     "output_type": "stream",
     "text": [
      "CHEMBL4481755  --  0\n",
      "CHEMBL5129876  --  0\n",
      "CHEMBL4481695  --  0\n"
     ]
    },
    {
     "name": "stderr",
     "output_type": "stream",
     "text": [
      "  1%|▏         | 154/11346 [00:15<19:11,  9.72it/s]"
     ]
    },
    {
     "name": "stdout",
     "output_type": "stream",
     "text": [
      "CHEMBL4055434  --  0\n",
      "CHEMBL4395785  --  0\n",
      "CHEMBL4481754  --  0\n"
     ]
    },
    {
     "name": "stderr",
     "output_type": "stream",
     "text": [
      "  1%|▏         | 156/11346 [00:15<19:32,  9.54it/s]"
     ]
    },
    {
     "name": "stdout",
     "output_type": "stream",
     "text": [
      "CHEMBL3630154  --  0\n",
      "CHEMBL1664814  --  0\n"
     ]
    },
    {
     "name": "stderr",
     "output_type": "stream",
     "text": [
      "  1%|▏         | 159/11346 [00:15<19:12,  9.71it/s]"
     ]
    },
    {
     "name": "stdout",
     "output_type": "stream",
     "text": [
      "CHEMBL4375569  --  0\n",
      "CHEMBL3096846  --  0\n",
      "CHEMBL4375570  --  0\n"
     ]
    },
    {
     "name": "stderr",
     "output_type": "stream",
     "text": [
      "  1%|▏         | 162/11346 [00:15<19:22,  9.62it/s]"
     ]
    },
    {
     "name": "stdout",
     "output_type": "stream",
     "text": [
      "CHEMBL3386984  --  0\n",
      "CHEMBL5322743  --  0\n",
      "CHEMBL3096846  --  0\n"
     ]
    },
    {
     "name": "stderr",
     "output_type": "stream",
     "text": [
      "  1%|▏         | 165/11346 [00:16<19:02,  9.78it/s]"
     ]
    },
    {
     "name": "stdout",
     "output_type": "stream",
     "text": [
      "CHEMBL4824440  --  0\n",
      "CHEMBL1045353  --  0\n",
      "CHEMBL1045352  --  0\n"
     ]
    },
    {
     "name": "stderr",
     "output_type": "stream",
     "text": [
      "  1%|▏         | 167/11346 [00:16<18:44,  9.94it/s]"
     ]
    },
    {
     "name": "stdout",
     "output_type": "stream",
     "text": [
      "CHEMBL4725867  --  0\n",
      "CHEMBL3624795  --  0\n",
      "CHEMBL3624797  --  0\n"
     ]
    },
    {
     "name": "stderr",
     "output_type": "stream",
     "text": [
      "  1%|▏         | 170/11346 [00:16<18:33, 10.04it/s]"
     ]
    },
    {
     "name": "stdout",
     "output_type": "stream",
     "text": [
      "CHEMBL4481696  --  0\n",
      "CHEMBL5262775  --  0\n",
      "CHEMBL5381961  --  0\n"
     ]
    },
    {
     "name": "stderr",
     "output_type": "stream",
     "text": [
      "  2%|▏         | 174/11346 [00:17<18:12, 10.22it/s]"
     ]
    },
    {
     "name": "stdout",
     "output_type": "stream",
     "text": [
      "CHEMBL4844114  --  0\n",
      "CHEMBL1776260  --  0\n",
      "CHEMBL1054943  --  0\n"
     ]
    },
    {
     "name": "stderr",
     "output_type": "stream",
     "text": [
      "  2%|▏         | 176/11346 [00:17<18:29, 10.07it/s]"
     ]
    },
    {
     "name": "stdout",
     "output_type": "stream",
     "text": [
      "CHEMBL5227581  --  0\n",
      "CHEMBL4423961  --  0\n",
      "CHEMBL2209268  --  0\n"
     ]
    },
    {
     "name": "stderr",
     "output_type": "stream",
     "text": [
      "  2%|▏         | 180/11346 [00:17<18:18, 10.17it/s]"
     ]
    },
    {
     "name": "stdout",
     "output_type": "stream",
     "text": [
      "CHEMBL4673720  --  0\n",
      "CHEMBL3132000  --  0\n",
      "CHEMBL4404083  --  0\n"
     ]
    },
    {
     "name": "stderr",
     "output_type": "stream",
     "text": [
      "  2%|▏         | 182/11346 [00:17<18:41,  9.95it/s]"
     ]
    },
    {
     "name": "stdout",
     "output_type": "stream",
     "text": [
      "CHEMBL4425485  --  0\n",
      "CHEMBL2094264  --  0\n",
      "CHEMBL3056447  --  0\n"
     ]
    },
    {
     "name": "stderr",
     "output_type": "stream",
     "text": [
      "  2%|▏         | 186/11346 [00:18<18:24, 10.11it/s]"
     ]
    },
    {
     "name": "stdout",
     "output_type": "stream",
     "text": [
      "CHEMBL5034468  --  0\n",
      "CHEMBL5623472  --  0\n",
      "CHEMBL5335922  --  0\n"
     ]
    },
    {
     "name": "stderr",
     "output_type": "stream",
     "text": [
      "  2%|▏         | 188/11346 [00:18<18:17, 10.16it/s]"
     ]
    },
    {
     "name": "stdout",
     "output_type": "stream",
     "text": [
      "CHEMBL1291245  --  0\n",
      "CHEMBL5623473  --  0\n",
      "CHEMBL2094263  --  0\n"
     ]
    },
    {
     "name": "stderr",
     "output_type": "stream",
     "text": [
      "  2%|▏         | 190/11346 [00:18<18:20, 10.14it/s]"
     ]
    },
    {
     "name": "stdout",
     "output_type": "stream",
     "text": [
      "CHEMBL1291244  --  0\n",
      "CHEMBL1104164  --  0\n"
     ]
    },
    {
     "name": "stderr",
     "output_type": "stream",
     "text": [
      "  2%|▏         | 192/11346 [00:18<18:30, 10.05it/s]"
     ]
    },
    {
     "name": "stdout",
     "output_type": "stream",
     "text": [
      "CHEMBL3102132  --  0\n",
      "CHEMBL4253139  --  0\n"
     ]
    },
    {
     "name": "stderr",
     "output_type": "stream",
     "text": [
      "  2%|▏         | 195/11346 [00:19<18:56,  9.81it/s]"
     ]
    },
    {
     "name": "stdout",
     "output_type": "stream",
     "text": [
      "CHEMBL4712810  --  0\n",
      "CHEMBL3887424  --  0\n",
      "CHEMBL1061238  --  0\n"
     ]
    },
    {
     "name": "stderr",
     "output_type": "stream",
     "text": [
      "  2%|▏         | 199/11346 [00:19<18:25, 10.08it/s]"
     ]
    },
    {
     "name": "stdout",
     "output_type": "stream",
     "text": [
      "CHEMBL1061239  --  0\n",
      "CHEMBL3073160  --  0\n",
      "CHEMBL901696  --  0\n"
     ]
    },
    {
     "name": "stderr",
     "output_type": "stream",
     "text": [
      "  2%|▏         | 201/11346 [00:19<18:16, 10.17it/s]"
     ]
    },
    {
     "name": "stdout",
     "output_type": "stream",
     "text": [
      "CHEMBL1937176  --  0\n",
      "CHEMBL3131200  --  0\n",
      "CHEMBL4119731  --  0\n"
     ]
    },
    {
     "name": "stderr",
     "output_type": "stream",
     "text": [
      "  2%|▏         | 205/11346 [00:20<17:46, 10.45it/s]"
     ]
    },
    {
     "name": "stdout",
     "output_type": "stream",
     "text": [
      "CHEMBL825364  --  0\n",
      "CHEMBL4306878  --  0\n",
      "CHEMBL3102132  --  0\n"
     ]
    },
    {
     "name": "stderr",
     "output_type": "stream",
     "text": [
      "  2%|▏         | 207/11346 [00:20<17:51, 10.40it/s]"
     ]
    },
    {
     "name": "stdout",
     "output_type": "stream",
     "text": [
      "CHEMBL2350353  --  0\n",
      "CHEMBL5524044  --  0\n",
      "CHEMBL3405738  --  0\n"
     ]
    },
    {
     "name": "stderr",
     "output_type": "stream",
     "text": [
      "  2%|▏         | 211/11346 [00:20<18:04, 10.26it/s]"
     ]
    },
    {
     "name": "stdout",
     "output_type": "stream",
     "text": [
      "CHEMBL4119730  --  0\n",
      "CHEMBL4119732  --  0\n",
      "CHEMBL4043386  --  0\n"
     ]
    },
    {
     "name": "stderr",
     "output_type": "stream",
     "text": [
      "  2%|▏         | 213/11346 [00:21<18:05, 10.26it/s]"
     ]
    },
    {
     "name": "stdout",
     "output_type": "stream",
     "text": [
      "CHEMBL1030449  --  0\n",
      "CHEMBL4261187  --  0\n",
      "CHEMBL5375438  --  0\n"
     ]
    },
    {
     "name": "stderr",
     "output_type": "stream",
     "text": [
      "  2%|▏         | 217/11346 [00:21<17:56, 10.34it/s]"
     ]
    },
    {
     "name": "stdout",
     "output_type": "stream",
     "text": [
      "CHEMBL3380428  --  0\n",
      "CHEMBL3806455  --  0\n",
      "CHEMBL5047846  --  0\n"
     ]
    },
    {
     "name": "stderr",
     "output_type": "stream",
     "text": [
      "  2%|▏         | 219/11346 [00:21<17:55, 10.35it/s]"
     ]
    },
    {
     "name": "stdout",
     "output_type": "stream",
     "text": [
      "CHEMBL5588127  --  0\n",
      "CHEMBL4308568  --  0\n",
      "CHEMBL5047847  --  0\n"
     ]
    },
    {
     "name": "stderr",
     "output_type": "stream",
     "text": [
      "  2%|▏         | 223/11346 [00:21<17:41, 10.48it/s]"
     ]
    },
    {
     "name": "stdout",
     "output_type": "stream",
     "text": [
      "CHEMBL4365276  --  0\n",
      "CHEMBL3056340  --  0\n",
      "CHEMBL3056340  --  0\n"
     ]
    },
    {
     "name": "stderr",
     "output_type": "stream",
     "text": [
      "  2%|▏         | 225/11346 [00:22<17:53, 10.36it/s]"
     ]
    },
    {
     "name": "stdout",
     "output_type": "stream",
     "text": [
      "CHEMBL3131996  --  0\n",
      "CHEMBL1936053  --  0\n",
      "CHEMBL3135495  --  0\n"
     ]
    },
    {
     "name": "stderr",
     "output_type": "stream",
     "text": [
      "  2%|▏         | 229/11346 [00:22<18:39,  9.93it/s]"
     ]
    },
    {
     "name": "stdout",
     "output_type": "stream",
     "text": [
      "CHEMBL4388639  --  0\n",
      "CHEMBL1936053  --  0\n",
      "CHEMBL2443668  --  0\n"
     ]
    },
    {
     "name": "stderr",
     "output_type": "stream",
     "text": [
      "  2%|▏         | 231/11346 [00:22<18:22, 10.08it/s]"
     ]
    },
    {
     "name": "stdout",
     "output_type": "stream",
     "text": [
      "CHEMBL1936053  --  0\n",
      "CHEMBL748927  --  0\n",
      "CHEMBL3637831  --  0\n"
     ]
    },
    {
     "name": "stderr",
     "output_type": "stream",
     "text": [
      "  2%|▏         | 235/11346 [00:23<18:08, 10.20it/s]"
     ]
    },
    {
     "name": "stdout",
     "output_type": "stream",
     "text": [
      "CHEMBL4222624  --  0\n",
      "CHEMBL1252095  --  0\n",
      "CHEMBL2149219  --  0\n"
     ]
    },
    {
     "name": "stderr",
     "output_type": "stream",
     "text": [
      "  2%|▏         | 237/11346 [00:23<18:06, 10.22it/s]"
     ]
    },
    {
     "name": "stdout",
     "output_type": "stream",
     "text": [
      "CHEMBL3737394  --  0\n",
      "CHEMBL3630438  --  0\n",
      "CHEMBL1687502  --  0\n"
     ]
    },
    {
     "name": "stderr",
     "output_type": "stream",
     "text": [
      "  2%|▏         | 241/11346 [00:23<18:00, 10.28it/s]"
     ]
    },
    {
     "name": "stdout",
     "output_type": "stream",
     "text": [
      "CHEMBL1010779  --  0\n",
      "CHEMBL3637832  --  0\n",
      "CHEMBL2091603  --  0\n"
     ]
    },
    {
     "name": "stderr",
     "output_type": "stream",
     "text": [
      "  2%|▏         | 243/11346 [00:23<17:58, 10.29it/s]"
     ]
    },
    {
     "name": "stdout",
     "output_type": "stream",
     "text": [
      "CHEMBL4831379  --  0\n",
      "CHEMBL2091604  --  0\n",
      "CHEMBL3405737  --  0\n"
     ]
    },
    {
     "name": "stderr",
     "output_type": "stream",
     "text": [
      "  2%|▏         | 247/11346 [00:24<18:01, 10.26it/s]"
     ]
    },
    {
     "name": "stdout",
     "output_type": "stream",
     "text": [
      "CHEMBL4703225  --  0\n",
      "CHEMBL4395371  --  0\n",
      "CHEMBL3880091  --  0\n"
     ]
    },
    {
     "name": "stderr",
     "output_type": "stream",
     "text": [
      "  2%|▏         | 249/11346 [00:24<17:54, 10.32it/s]"
     ]
    },
    {
     "name": "stdout",
     "output_type": "stream",
     "text": [
      "CHEMBL5107643  --  0\n",
      "CHEMBL4395372  --  0\n",
      "CHEMBL4189875  --  0\n"
     ]
    },
    {
     "name": "stderr",
     "output_type": "stream",
     "text": [
      "  2%|▏         | 253/11346 [00:24<18:16, 10.12it/s]"
     ]
    },
    {
     "name": "stdout",
     "output_type": "stream",
     "text": [
      "CHEMBL4395370  --  0\n",
      "CHEMBL3380429  --  0\n",
      "CHEMBL4181648  --  0\n"
     ]
    },
    {
     "name": "stderr",
     "output_type": "stream",
     "text": [
      "  2%|▏         | 255/11346 [00:25<18:19, 10.09it/s]"
     ]
    },
    {
     "name": "stdout",
     "output_type": "stream",
     "text": [
      "CHEMBL4359366  --  0\n",
      "CHEMBL3801596  --  0\n",
      "CHEMBL3801592  --  0\n"
     ]
    },
    {
     "name": "stderr",
     "output_type": "stream",
     "text": [
      "  2%|▏         | 259/11346 [00:25<18:01, 10.25it/s]"
     ]
    },
    {
     "name": "stdout",
     "output_type": "stream",
     "text": [
      "CHEMBL4265148  --  0\n",
      "CHEMBL4011977  --  0\n",
      "CHEMBL4479191  --  0\n"
     ]
    },
    {
     "name": "stderr",
     "output_type": "stream",
     "text": [
      "  2%|▏         | 261/11346 [00:25<17:53, 10.33it/s]"
     ]
    },
    {
     "name": "stdout",
     "output_type": "stream",
     "text": [
      "CHEMBL1030446  --  0\n",
      "CHEMBL3376392  --  0\n",
      "CHEMBL3630322  --  0\n"
     ]
    },
    {
     "name": "stderr",
     "output_type": "stream",
     "text": [
      "  2%|▏         | 263/11346 [00:25<17:52, 10.34it/s]"
     ]
    },
    {
     "name": "stdout",
     "output_type": "stream",
     "text": [
      "CHEMBL3077826  --  0\n",
      "CHEMBL746400  --  0\n",
      "CHEMBL3866224  --  0\n"
     ]
    },
    {
     "name": "stderr",
     "output_type": "stream",
     "text": [
      "  2%|▏         | 267/11346 [00:26<18:06, 10.20it/s]"
     ]
    },
    {
     "name": "stdout",
     "output_type": "stream",
     "text": [
      "CHEMBL5146973  --  0\n",
      "CHEMBL5389958  --  0\n",
      "CHEMBL4032591  --  0\n"
     ]
    },
    {
     "name": "stderr",
     "output_type": "stream",
     "text": [
      "  2%|▏         | 271/11346 [00:26<18:04, 10.21it/s]"
     ]
    },
    {
     "name": "stdout",
     "output_type": "stream",
     "text": [
      "CHEMBL746399  --  0\n",
      "CHEMBL3077826  --  0\n",
      "CHEMBL746401  --  0\n"
     ]
    },
    {
     "name": "stderr",
     "output_type": "stream",
     "text": [
      "  2%|▏         | 273/11346 [00:26<18:02, 10.23it/s]"
     ]
    },
    {
     "name": "stdout",
     "output_type": "stream",
     "text": [
      "CHEMBL4011978  --  0\n",
      "CHEMBL4771264  --  0\n",
      "CHEMBL2394224  --  0\n"
     ]
    },
    {
     "name": "stderr",
     "output_type": "stream",
     "text": [
      "  2%|▏         | 277/11346 [00:27<17:59, 10.25it/s]"
     ]
    },
    {
     "name": "stdout",
     "output_type": "stream",
     "text": [
      "CHEMBL3870912  --  0\n",
      "CHEMBL5625849  --  0\n",
      "CHEMBL4059067  --  0\n"
     ]
    },
    {
     "name": "stderr",
     "output_type": "stream",
     "text": [
      "  2%|▏         | 279/11346 [00:27<17:44, 10.40it/s]"
     ]
    },
    {
     "name": "stdout",
     "output_type": "stream",
     "text": [
      "CHEMBL5625847  --  0\n",
      "CHEMBL3073160  --  0\n",
      "CHEMBL4255034  --  0\n"
     ]
    },
    {
     "name": "stderr",
     "output_type": "stream",
     "text": [
      "  2%|▏         | 283/11346 [00:27<17:27, 10.56it/s]"
     ]
    },
    {
     "name": "stdout",
     "output_type": "stream",
     "text": [
      "CHEMBL3380429  --  0\n",
      "CHEMBL5246900  --  0\n",
      "CHEMBL3637833  --  0\n"
     ]
    },
    {
     "name": "stderr",
     "output_type": "stream",
     "text": [
      "  3%|▎         | 285/11346 [00:28<17:34, 10.49it/s]"
     ]
    },
    {
     "name": "stdout",
     "output_type": "stream",
     "text": [
      "CHEMBL5144856  --  0\n",
      "CHEMBL4771267  --  0\n",
      "CHEMBL4771268  --  0\n"
     ]
    },
    {
     "name": "stderr",
     "output_type": "stream",
     "text": [
      "  3%|▎         | 289/11346 [00:28<17:50, 10.33it/s]"
     ]
    },
    {
     "name": "stdout",
     "output_type": "stream",
     "text": [
      "CHEMBL5246901  --  0\n",
      "CHEMBL5246902  --  0\n",
      "CHEMBL3135672  --  0\n"
     ]
    },
    {
     "name": "stderr",
     "output_type": "stream",
     "text": [
      "  3%|▎         | 292/11346 [00:28<18:37,  9.89it/s]"
     ]
    },
    {
     "name": "stdout",
     "output_type": "stream",
     "text": [
      "CHEMBL5374588  --  0\n",
      "CHEMBL5374588  --  0\n",
      "CHEMBL5262814  --  0\n"
     ]
    },
    {
     "name": "stderr",
     "output_type": "stream",
     "text": [
      "  3%|▎         | 294/11346 [00:28<18:09, 10.15it/s]"
     ]
    },
    {
     "name": "stdout",
     "output_type": "stream",
     "text": [
      "CHEMBL4703226  --  0\n",
      "CHEMBL4831679  --  0\n"
     ]
    },
    {
     "name": "stderr",
     "output_type": "stream",
     "text": [
      "\n"
     ]
    },
    {
     "ename": "KeyboardInterrupt",
     "evalue": "",
     "output_type": "error",
     "traceback": [
      "\u001b[0;31m---------------------------------------------------------------------------\u001b[0m",
      "\u001b[0;31mKeyboardInterrupt\u001b[0m                         Traceback (most recent call last)",
      "Cell \u001b[0;32mIn[7], line 5\u001b[0m\n\u001b[1;32m      1\u001b[0m \u001b[38;5;66;03m# For each assay\u001b[39;00m\n\u001b[1;32m      2\u001b[0m \u001b[38;5;28;01mfor\u001b[39;00m assay_id, activity_type, unit \u001b[38;5;129;01min\u001b[39;00m tqdm(ASSAYS_INFO[[\u001b[38;5;124m'\u001b[39m\u001b[38;5;124massay_id\u001b[39m\u001b[38;5;124m'\u001b[39m, \u001b[38;5;124m'\u001b[39m\u001b[38;5;124mactivity_type\u001b[39m\u001b[38;5;124m'\u001b[39m, \u001b[38;5;124m'\u001b[39m\u001b[38;5;124munit\u001b[39m\u001b[38;5;124m'\u001b[39m]]\u001b[38;5;241m.\u001b[39mvalues):\n\u001b[1;32m      3\u001b[0m \n\u001b[1;32m      4\u001b[0m     \u001b[38;5;66;03m# Get assay data        \u001b[39;00m\n\u001b[0;32m----> 5\u001b[0m     assay_data \u001b[38;5;241m=\u001b[39m \u001b[43mget_assay_data\u001b[49m\u001b[43m(\u001b[49m\u001b[43mChEMBL_\u001b[49m\u001b[43m,\u001b[49m\u001b[43m \u001b[49m\u001b[43massay_id\u001b[49m\u001b[43m,\u001b[49m\u001b[43m \u001b[49m\u001b[43mactivity_type\u001b[49m\u001b[43m,\u001b[49m\u001b[43m \u001b[49m\u001b[43munit\u001b[49m\u001b[43m)\u001b[49m\n\u001b[1;32m      7\u001b[0m     \u001b[38;5;66;03m# Filter assay data\u001b[39;00m\n\u001b[1;32m      8\u001b[0m     assay_data \u001b[38;5;241m=\u001b[39m assay_data[[\u001b[38;5;124m'\u001b[39m\u001b[38;5;124massay_chembl_id\u001b[39m\u001b[38;5;124m'\u001b[39m, \u001b[38;5;124m'\u001b[39m\u001b[38;5;124mtarget_chembl_id\u001b[39m\u001b[38;5;124m'\u001b[39m, \u001b[38;5;124m'\u001b[39m\u001b[38;5;124mcompound_chembl_id\u001b[39m\u001b[38;5;124m'\u001b[39m, \u001b[38;5;124m'\u001b[39m\u001b[38;5;124mcanonical_smiles\u001b[39m\u001b[38;5;124m'\u001b[39m, \u001b[38;5;124m'\u001b[39m\u001b[38;5;124mMW\u001b[39m\u001b[38;5;124m'\u001b[39m, \u001b[38;5;124m'\u001b[39m\u001b[38;5;124mpchembl\u001b[39m\u001b[38;5;124m'\u001b[39m, \n\u001b[1;32m      9\u001b[0m                              \u001b[38;5;124m'\u001b[39m\u001b[38;5;124mactivity_comment\u001b[39m\u001b[38;5;124m'\u001b[39m, \u001b[38;5;124m'\u001b[39m\u001b[38;5;124mstandard_text\u001b[39m\u001b[38;5;124m'\u001b[39m, \u001b[38;5;124m'\u001b[39m\u001b[38;5;124mvalue\u001b[39m\u001b[38;5;124m'\u001b[39m, \u001b[38;5;124m'\u001b[39m\u001b[38;5;124munit\u001b[39m\u001b[38;5;124m'\u001b[39m, \u001b[38;5;124m'\u001b[39m\u001b[38;5;124mactivity_type\u001b[39m\u001b[38;5;124m'\u001b[39m, \u001b[38;5;124m'\u001b[39m\u001b[38;5;124mrelation\u001b[39m\u001b[38;5;124m'\u001b[39m, \u001b[38;5;124m'\u001b[39m\u001b[38;5;124mpchembl_calculated\u001b[39m\u001b[38;5;124m'\u001b[39m]]\n",
      "Cell \u001b[0;32mIn[2], line 6\u001b[0m, in \u001b[0;36mget_assay_data\u001b[0;34m(ChEMBL_, assay_id, activity_type, unit)\u001b[0m\n\u001b[1;32m      3\u001b[0m     assay_data \u001b[38;5;241m=\u001b[39m ChEMBL_[(ChEMBL_[\u001b[38;5;124m'\u001b[39m\u001b[38;5;124massay_chembl_id\u001b[39m\u001b[38;5;124m'\u001b[39m] \u001b[38;5;241m==\u001b[39m assay_id) \u001b[38;5;241m&\u001b[39m (ChEMBL_[\u001b[38;5;124m'\u001b[39m\u001b[38;5;124mactivity_type\u001b[39m\u001b[38;5;124m'\u001b[39m] \u001b[38;5;241m==\u001b[39m activity_type) \u001b[38;5;241m&\u001b[39m \n\u001b[1;32m      4\u001b[0m                                 (ChEMBL_[\u001b[38;5;124m'\u001b[39m\u001b[38;5;124munit\u001b[39m\u001b[38;5;124m'\u001b[39m]\u001b[38;5;241m.\u001b[39misna() \u001b[38;5;241m==\u001b[39m \u001b[38;5;28;01mTrue\u001b[39;00m) \u001b[38;5;241m&\u001b[39m (ChEMBL_[\u001b[38;5;124m'\u001b[39m\u001b[38;5;124mcanonical_smiles\u001b[39m\u001b[38;5;124m'\u001b[39m]\u001b[38;5;241m.\u001b[39misna() \u001b[38;5;241m==\u001b[39m \u001b[38;5;28;01mFalse\u001b[39;00m)]\n\u001b[1;32m      5\u001b[0m \u001b[38;5;28;01melse\u001b[39;00m:\n\u001b[0;32m----> 6\u001b[0m     assay_data \u001b[38;5;241m=\u001b[39m ChEMBL_[(\u001b[43mChEMBL_\u001b[49m\u001b[43m[\u001b[49m\u001b[38;5;124;43m'\u001b[39;49m\u001b[38;5;124;43massay_chembl_id\u001b[39;49m\u001b[38;5;124;43m'\u001b[39;49m\u001b[43m]\u001b[49m\u001b[43m \u001b[49m\u001b[38;5;241;43m==\u001b[39;49m\u001b[43m \u001b[49m\u001b[43massay_id\u001b[49m) \u001b[38;5;241m&\u001b[39m (ChEMBL_[\u001b[38;5;124m'\u001b[39m\u001b[38;5;124mactivity_type\u001b[39m\u001b[38;5;124m'\u001b[39m] \u001b[38;5;241m==\u001b[39m activity_type) \u001b[38;5;241m&\u001b[39m \n\u001b[1;32m      7\u001b[0m                                 (ChEMBL_[\u001b[38;5;124m'\u001b[39m\u001b[38;5;124munit\u001b[39m\u001b[38;5;124m'\u001b[39m] \u001b[38;5;241m==\u001b[39m unit) \u001b[38;5;241m&\u001b[39m (ChEMBL_[\u001b[38;5;124m'\u001b[39m\u001b[38;5;124mcanonical_smiles\u001b[39m\u001b[38;5;124m'\u001b[39m]\u001b[38;5;241m.\u001b[39misna() \u001b[38;5;241m==\u001b[39m \u001b[38;5;28;01mFalse\u001b[39;00m)]\n\u001b[1;32m      8\u001b[0m \u001b[38;5;28;01mreturn\u001b[39;00m assay_data\n",
      "File \u001b[0;32m~/miniconda3/envs/camt/lib/python3.10/site-packages/pandas/core/ops/common.py:76\u001b[0m, in \u001b[0;36m_unpack_zerodim_and_defer.<locals>.new_method\u001b[0;34m(self, other)\u001b[0m\n\u001b[1;32m     72\u001b[0m             \u001b[38;5;28;01mreturn\u001b[39;00m \u001b[38;5;28mNotImplemented\u001b[39m\n\u001b[1;32m     74\u001b[0m other \u001b[38;5;241m=\u001b[39m item_from_zerodim(other)\n\u001b[0;32m---> 76\u001b[0m \u001b[38;5;28;01mreturn\u001b[39;00m \u001b[43mmethod\u001b[49m\u001b[43m(\u001b[49m\u001b[38;5;28;43mself\u001b[39;49m\u001b[43m,\u001b[49m\u001b[43m \u001b[49m\u001b[43mother\u001b[49m\u001b[43m)\u001b[49m\n",
      "File \u001b[0;32m~/miniconda3/envs/camt/lib/python3.10/site-packages/pandas/core/arraylike.py:40\u001b[0m, in \u001b[0;36mOpsMixin.__eq__\u001b[0;34m(self, other)\u001b[0m\n\u001b[1;32m     38\u001b[0m \u001b[38;5;129m@unpack_zerodim_and_defer\u001b[39m(\u001b[38;5;124m\"\u001b[39m\u001b[38;5;124m__eq__\u001b[39m\u001b[38;5;124m\"\u001b[39m)\n\u001b[1;32m     39\u001b[0m \u001b[38;5;28;01mdef\u001b[39;00m\u001b[38;5;250m \u001b[39m\u001b[38;5;21m__eq__\u001b[39m(\u001b[38;5;28mself\u001b[39m, other):\n\u001b[0;32m---> 40\u001b[0m     \u001b[38;5;28;01mreturn\u001b[39;00m \u001b[38;5;28;43mself\u001b[39;49m\u001b[38;5;241;43m.\u001b[39;49m\u001b[43m_cmp_method\u001b[49m\u001b[43m(\u001b[49m\u001b[43mother\u001b[49m\u001b[43m,\u001b[49m\u001b[43m \u001b[49m\u001b[43moperator\u001b[49m\u001b[38;5;241;43m.\u001b[39;49m\u001b[43meq\u001b[49m\u001b[43m)\u001b[49m\n",
      "File \u001b[0;32m~/miniconda3/envs/camt/lib/python3.10/site-packages/pandas/core/series.py:6110\u001b[0m, in \u001b[0;36mSeries._cmp_method\u001b[0;34m(self, other, op)\u001b[0m\n\u001b[1;32m   6107\u001b[0m lvalues \u001b[38;5;241m=\u001b[39m \u001b[38;5;28mself\u001b[39m\u001b[38;5;241m.\u001b[39m_values\n\u001b[1;32m   6108\u001b[0m rvalues \u001b[38;5;241m=\u001b[39m extract_array(other, extract_numpy\u001b[38;5;241m=\u001b[39m\u001b[38;5;28;01mTrue\u001b[39;00m, extract_range\u001b[38;5;241m=\u001b[39m\u001b[38;5;28;01mTrue\u001b[39;00m)\n\u001b[0;32m-> 6110\u001b[0m res_values \u001b[38;5;241m=\u001b[39m \u001b[43mops\u001b[49m\u001b[38;5;241;43m.\u001b[39;49m\u001b[43mcomparison_op\u001b[49m\u001b[43m(\u001b[49m\u001b[43mlvalues\u001b[49m\u001b[43m,\u001b[49m\u001b[43m \u001b[49m\u001b[43mrvalues\u001b[49m\u001b[43m,\u001b[49m\u001b[43m \u001b[49m\u001b[43mop\u001b[49m\u001b[43m)\u001b[49m\n\u001b[1;32m   6112\u001b[0m \u001b[38;5;28;01mreturn\u001b[39;00m \u001b[38;5;28mself\u001b[39m\u001b[38;5;241m.\u001b[39m_construct_result(res_values, name\u001b[38;5;241m=\u001b[39mres_name)\n",
      "File \u001b[0;32m~/miniconda3/envs/camt/lib/python3.10/site-packages/pandas/core/ops/array_ops.py:344\u001b[0m, in \u001b[0;36mcomparison_op\u001b[0;34m(left, right, op)\u001b[0m\n\u001b[1;32m    341\u001b[0m     \u001b[38;5;28;01mreturn\u001b[39;00m invalid_comparison(lvalues, rvalues, op)\n\u001b[1;32m    343\u001b[0m \u001b[38;5;28;01melif\u001b[39;00m lvalues\u001b[38;5;241m.\u001b[39mdtype \u001b[38;5;241m==\u001b[39m \u001b[38;5;28mobject\u001b[39m \u001b[38;5;129;01mor\u001b[39;00m \u001b[38;5;28misinstance\u001b[39m(rvalues, \u001b[38;5;28mstr\u001b[39m):\n\u001b[0;32m--> 344\u001b[0m     res_values \u001b[38;5;241m=\u001b[39m \u001b[43mcomp_method_OBJECT_ARRAY\u001b[49m\u001b[43m(\u001b[49m\u001b[43mop\u001b[49m\u001b[43m,\u001b[49m\u001b[43m \u001b[49m\u001b[43mlvalues\u001b[49m\u001b[43m,\u001b[49m\u001b[43m \u001b[49m\u001b[43mrvalues\u001b[49m\u001b[43m)\u001b[49m\n\u001b[1;32m    346\u001b[0m \u001b[38;5;28;01melse\u001b[39;00m:\n\u001b[1;32m    347\u001b[0m     res_values \u001b[38;5;241m=\u001b[39m _na_arithmetic_op(lvalues, rvalues, op, is_cmp\u001b[38;5;241m=\u001b[39m\u001b[38;5;28;01mTrue\u001b[39;00m)\n",
      "File \u001b[0;32m~/miniconda3/envs/camt/lib/python3.10/site-packages/pandas/core/ops/array_ops.py:129\u001b[0m, in \u001b[0;36mcomp_method_OBJECT_ARRAY\u001b[0;34m(op, x, y)\u001b[0m\n\u001b[1;32m    127\u001b[0m     result \u001b[38;5;241m=\u001b[39m libops\u001b[38;5;241m.\u001b[39mvec_compare(x\u001b[38;5;241m.\u001b[39mravel(), y\u001b[38;5;241m.\u001b[39mravel(), op)\n\u001b[1;32m    128\u001b[0m \u001b[38;5;28;01melse\u001b[39;00m:\n\u001b[0;32m--> 129\u001b[0m     result \u001b[38;5;241m=\u001b[39m \u001b[43mlibops\u001b[49m\u001b[38;5;241;43m.\u001b[39;49m\u001b[43mscalar_compare\u001b[49m\u001b[43m(\u001b[49m\u001b[43mx\u001b[49m\u001b[38;5;241;43m.\u001b[39;49m\u001b[43mravel\u001b[49m\u001b[43m(\u001b[49m\u001b[43m)\u001b[49m\u001b[43m,\u001b[49m\u001b[43m \u001b[49m\u001b[43my\u001b[49m\u001b[43m,\u001b[49m\u001b[43m \u001b[49m\u001b[43mop\u001b[49m\u001b[43m)\u001b[49m\n\u001b[1;32m    130\u001b[0m \u001b[38;5;28;01mreturn\u001b[39;00m result\u001b[38;5;241m.\u001b[39mreshape(x\u001b[38;5;241m.\u001b[39mshape)\n",
      "\u001b[0;31mKeyboardInterrupt\u001b[0m: "
     ]
    }
   ],
   "source": [
    "# For each assay\n",
    "for assay_id, activity_type, unit in tqdm(ASSAYS_INFO[['assay_id', 'activity_type', 'unit']].values):\n",
    "\n",
    "    # Get assay data        \n",
    "    assay_data = get_assay_data(ChEMBL_, assay_id, activity_type, unit)\n",
    "        \n",
    "    # Filter assay data\n",
    "    assay_data = assay_data[['assay_chembl_id', 'target_chembl_id', 'compound_chembl_id', 'canonical_smiles', 'MW', 'pchembl', \n",
    "                             'activity_comment', 'standard_text', 'value', 'unit', 'activity_type', 'relation', 'pchembl_calculated']]\n",
    "        \n",
    "    # # Get direction\n",
    "    # dir_ = get_direction(activity_type, unit, direction)\n",
    "\n",
    "    # # Get values\n",
    "    # values = assay_data[assay_data['relation'] == \"=\"]['value'].tolist()\n",
    "    # minimum, maximum = np.min(values), np.max(values)\n",
    "\n",
    "    # # Adjust relations and values\n",
    "    # # assay_data = adjust_relations_values(dir_, assay_data)\n",
    "    # # ...\n",
    "    # if dir_ == 1:\n",
    "\n",
    "    #     # If dir is 1, <'s are 0's\n",
    "    #     assay_data[\"value\"] = [i if j != '<' else 0 for i,j in zip(assay_data['value'], assay_data['relation'])]\n",
    "\n",
    "    # elif dir_ == -1:\n",
    "\n",
    "    #     # If dir is -1, >'s are 0's\n",
    "    #     assay_data[\"value\"] = [i if j != '>' else 0 for i,j in zip(assay_data['value'], assay_data['relation'])]\n",
    "\n",
    "        \n",
    "\n",
    "    print(assay_id, \" -- \", len(assay_data[assay_data['standard_text'] == 1]))"
   ]
  },
  {
   "cell_type": "code",
   "execution_count": null,
   "id": "e078bfae",
   "metadata": {},
   "outputs": [],
   "source": [
    "assays_with_annotations = dict(Counter(ChEMBL_[ChEMBL_['activity_comment'] != 0]['assay_chembl_id']))"
   ]
  },
  {
   "cell_type": "code",
   "execution_count": 24,
   "id": "8daf4595",
   "metadata": {},
   "outputs": [],
   "source": [
    "for assay in sorted(assays_with_annotations):\n",
    "\n",
    "    assay_data = ChEMBL_[ChEMBL_['assay_chembl_id'] == assay]\n",
    "    actives = assay_data[assay_data['activity_comment'] == 1]\n",
    "    undefined = assay_data[assay_data['activity_comment'] == 0]\n",
    "    inactives = assay_data[assay_data['activity_comment'] == -1]\n",
    "\n",
    "    break"
   ]
  },
  {
   "cell_type": "code",
   "execution_count": 27,
   "id": "b8096224",
   "metadata": {},
   "outputs": [
    {
     "data": {
      "text/html": [
       "<div>\n",
       "<style scoped>\n",
       "    .dataframe tbody tr th:only-of-type {\n",
       "        vertical-align: middle;\n",
       "    }\n",
       "\n",
       "    .dataframe tbody tr th {\n",
       "        vertical-align: top;\n",
       "    }\n",
       "\n",
       "    .dataframe thead th {\n",
       "        text-align: right;\n",
       "    }\n",
       "</style>\n",
       "<table border=\"1\" class=\"dataframe\">\n",
       "  <thead>\n",
       "    <tr style=\"text-align: right;\">\n",
       "      <th></th>\n",
       "      <th>activity_id</th>\n",
       "      <th>assay_id</th>\n",
       "      <th>assay_chembl_id</th>\n",
       "      <th>assay_type</th>\n",
       "      <th>assay_confidence_score</th>\n",
       "      <th>assay_organism</th>\n",
       "      <th>tid</th>\n",
       "      <th>target_type</th>\n",
       "      <th>target_organism</th>\n",
       "      <th>target_chembl_id</th>\n",
       "      <th>...</th>\n",
       "      <th>canonical_smiles</th>\n",
       "      <th>MW</th>\n",
       "      <th>pchembl</th>\n",
       "      <th>activity_comment</th>\n",
       "      <th>standard_text</th>\n",
       "      <th>value</th>\n",
       "      <th>unit</th>\n",
       "      <th>activity_type</th>\n",
       "      <th>relation</th>\n",
       "      <th>pchembl_calculated</th>\n",
       "    </tr>\n",
       "  </thead>\n",
       "  <tbody>\n",
       "    <tr>\n",
       "      <th>22496</th>\n",
       "      <td>6540023</td>\n",
       "      <td>752386</td>\n",
       "      <td>CHEMBL1794324</td>\n",
       "      <td>F</td>\n",
       "      <td>8</td>\n",
       "      <td>NaN</td>\n",
       "      <td>103988</td>\n",
       "      <td>SINGLE PROTEIN</td>\n",
       "      <td>Mycobacterium tuberculosis</td>\n",
       "      <td>CHEMBL1741192</td>\n",
       "      <td>...</td>\n",
       "      <td>Cn1c(=O)c([N+](=O)[O-])c(-n2ccnc2)c2ccccc21</td>\n",
       "      <td>270.248</td>\n",
       "      <td>5.18</td>\n",
       "      <td>1</td>\n",
       "      <td>0</td>\n",
       "      <td>6.673</td>\n",
       "      <td>umol.L-1</td>\n",
       "      <td>AC50</td>\n",
       "      <td>=</td>\n",
       "      <td>5.175679</td>\n",
       "    </tr>\n",
       "    <tr>\n",
       "      <th>22497</th>\n",
       "      <td>6540024</td>\n",
       "      <td>752386</td>\n",
       "      <td>CHEMBL1794324</td>\n",
       "      <td>F</td>\n",
       "      <td>8</td>\n",
       "      <td>NaN</td>\n",
       "      <td>103988</td>\n",
       "      <td>SINGLE PROTEIN</td>\n",
       "      <td>Mycobacterium tuberculosis</td>\n",
       "      <td>CHEMBL1741192</td>\n",
       "      <td>...</td>\n",
       "      <td>CCCCC(O)(CCCC)C(=O)NN(C(=O)CCl)c1ccccc1</td>\n",
       "      <td>354.878</td>\n",
       "      <td>4.82</td>\n",
       "      <td>1</td>\n",
       "      <td>0</td>\n",
       "      <td>15.040</td>\n",
       "      <td>umol.L-1</td>\n",
       "      <td>AC50</td>\n",
       "      <td>=</td>\n",
       "      <td>4.822752</td>\n",
       "    </tr>\n",
       "    <tr>\n",
       "      <th>22498</th>\n",
       "      <td>6540025</td>\n",
       "      <td>752386</td>\n",
       "      <td>CHEMBL1794324</td>\n",
       "      <td>F</td>\n",
       "      <td>8</td>\n",
       "      <td>NaN</td>\n",
       "      <td>103988</td>\n",
       "      <td>SINGLE PROTEIN</td>\n",
       "      <td>Mycobacterium tuberculosis</td>\n",
       "      <td>CHEMBL1741192</td>\n",
       "      <td>...</td>\n",
       "      <td>COc1ccc(Nc2ccc(OC)cc2)cc1</td>\n",
       "      <td>229.279</td>\n",
       "      <td>NaN</td>\n",
       "      <td>1</td>\n",
       "      <td>0</td>\n",
       "      <td>121.500</td>\n",
       "      <td>umol.L-1</td>\n",
       "      <td>AC50</td>\n",
       "      <td>=</td>\n",
       "      <td>3.915424</td>\n",
       "    </tr>\n",
       "    <tr>\n",
       "      <th>22499</th>\n",
       "      <td>6540026</td>\n",
       "      <td>752386</td>\n",
       "      <td>CHEMBL1794324</td>\n",
       "      <td>F</td>\n",
       "      <td>8</td>\n",
       "      <td>NaN</td>\n",
       "      <td>103988</td>\n",
       "      <td>SINGLE PROTEIN</td>\n",
       "      <td>Mycobacterium tuberculosis</td>\n",
       "      <td>CHEMBL1741192</td>\n",
       "      <td>...</td>\n",
       "      <td>CCn1c(SCC(=O)Nc2nc(-c3ccc(C)cc3)cs2)nnc1-c1ccc...</td>\n",
       "      <td>451.577</td>\n",
       "      <td>5.46</td>\n",
       "      <td>1</td>\n",
       "      <td>0</td>\n",
       "      <td>3.460</td>\n",
       "      <td>umol.L-1</td>\n",
       "      <td>AC50</td>\n",
       "      <td>=</td>\n",
       "      <td>5.460924</td>\n",
       "    </tr>\n",
       "    <tr>\n",
       "      <th>22500</th>\n",
       "      <td>6540027</td>\n",
       "      <td>752386</td>\n",
       "      <td>CHEMBL1794324</td>\n",
       "      <td>F</td>\n",
       "      <td>8</td>\n",
       "      <td>NaN</td>\n",
       "      <td>103988</td>\n",
       "      <td>SINGLE PROTEIN</td>\n",
       "      <td>Mycobacterium tuberculosis</td>\n",
       "      <td>CHEMBL1741192</td>\n",
       "      <td>...</td>\n",
       "      <td>O=C(Oc1ccc2ccccc2c1)c1ccco1</td>\n",
       "      <td>238.242</td>\n",
       "      <td>4.74</td>\n",
       "      <td>1</td>\n",
       "      <td>0</td>\n",
       "      <td>18.310</td>\n",
       "      <td>umol.L-1</td>\n",
       "      <td>AC50</td>\n",
       "      <td>=</td>\n",
       "      <td>4.737312</td>\n",
       "    </tr>\n",
       "    <tr>\n",
       "      <th>...</th>\n",
       "      <td>...</td>\n",
       "      <td>...</td>\n",
       "      <td>...</td>\n",
       "      <td>...</td>\n",
       "      <td>...</td>\n",
       "      <td>...</td>\n",
       "      <td>...</td>\n",
       "      <td>...</td>\n",
       "      <td>...</td>\n",
       "      <td>...</td>\n",
       "      <td>...</td>\n",
       "      <td>...</td>\n",
       "      <td>...</td>\n",
       "      <td>...</td>\n",
       "      <td>...</td>\n",
       "      <td>...</td>\n",
       "      <td>...</td>\n",
       "      <td>...</td>\n",
       "      <td>...</td>\n",
       "      <td>...</td>\n",
       "      <td>...</td>\n",
       "    </tr>\n",
       "    <tr>\n",
       "      <th>24642</th>\n",
       "      <td>6596119</td>\n",
       "      <td>752386</td>\n",
       "      <td>CHEMBL1794324</td>\n",
       "      <td>F</td>\n",
       "      <td>8</td>\n",
       "      <td>NaN</td>\n",
       "      <td>103988</td>\n",
       "      <td>SINGLE PROTEIN</td>\n",
       "      <td>Mycobacterium tuberculosis</td>\n",
       "      <td>CHEMBL1741192</td>\n",
       "      <td>...</td>\n",
       "      <td>O=S(=O)(CCSc1nc2ccccc2s1)c1nc2ccccc2s1</td>\n",
       "      <td>392.552</td>\n",
       "      <td>5.64</td>\n",
       "      <td>1</td>\n",
       "      <td>0</td>\n",
       "      <td>2.291</td>\n",
       "      <td>umol.L-1</td>\n",
       "      <td>AC50</td>\n",
       "      <td>=</td>\n",
       "      <td>5.639975</td>\n",
       "    </tr>\n",
       "    <tr>\n",
       "      <th>24645</th>\n",
       "      <td>6596122</td>\n",
       "      <td>752386</td>\n",
       "      <td>CHEMBL1794324</td>\n",
       "      <td>F</td>\n",
       "      <td>8</td>\n",
       "      <td>NaN</td>\n",
       "      <td>103988</td>\n",
       "      <td>SINGLE PROTEIN</td>\n",
       "      <td>Mycobacterium tuberculosis</td>\n",
       "      <td>CHEMBL1741192</td>\n",
       "      <td>...</td>\n",
       "      <td>c1coc(-c2nnc(-c3ccco3)nn2)c1</td>\n",
       "      <td>214.184</td>\n",
       "      <td>5.24</td>\n",
       "      <td>1</td>\n",
       "      <td>0</td>\n",
       "      <td>5.786</td>\n",
       "      <td>umol.L-1</td>\n",
       "      <td>AC50</td>\n",
       "      <td>=</td>\n",
       "      <td>5.237622</td>\n",
       "    </tr>\n",
       "    <tr>\n",
       "      <th>24646</th>\n",
       "      <td>6596123</td>\n",
       "      <td>752386</td>\n",
       "      <td>CHEMBL1794324</td>\n",
       "      <td>F</td>\n",
       "      <td>8</td>\n",
       "      <td>NaN</td>\n",
       "      <td>103988</td>\n",
       "      <td>SINGLE PROTEIN</td>\n",
       "      <td>Mycobacterium tuberculosis</td>\n",
       "      <td>CHEMBL1741192</td>\n",
       "      <td>...</td>\n",
       "      <td>COc1ccc(CC2=CC(=O)c3ccccc3C2=O)cc1</td>\n",
       "      <td>278.307</td>\n",
       "      <td>5.13</td>\n",
       "      <td>1</td>\n",
       "      <td>0</td>\n",
       "      <td>7.490</td>\n",
       "      <td>umol.L-1</td>\n",
       "      <td>AC50</td>\n",
       "      <td>=</td>\n",
       "      <td>5.125518</td>\n",
       "    </tr>\n",
       "    <tr>\n",
       "      <th>24647</th>\n",
       "      <td>6596124</td>\n",
       "      <td>752386</td>\n",
       "      <td>CHEMBL1794324</td>\n",
       "      <td>F</td>\n",
       "      <td>8</td>\n",
       "      <td>NaN</td>\n",
       "      <td>103988</td>\n",
       "      <td>SINGLE PROTEIN</td>\n",
       "      <td>Mycobacterium tuberculosis</td>\n",
       "      <td>CHEMBL1741192</td>\n",
       "      <td>...</td>\n",
       "      <td>COc1ccc(N=C(S)NC(NC(=O)CCl)C(Cl)(Cl)Cl)c([N+](...</td>\n",
       "      <td>450.131</td>\n",
       "      <td>4.54</td>\n",
       "      <td>1</td>\n",
       "      <td>0</td>\n",
       "      <td>28.530</td>\n",
       "      <td>umol.L-1</td>\n",
       "      <td>AC50</td>\n",
       "      <td>=</td>\n",
       "      <td>4.544698</td>\n",
       "    </tr>\n",
       "    <tr>\n",
       "      <th>24648</th>\n",
       "      <td>6596125</td>\n",
       "      <td>752386</td>\n",
       "      <td>CHEMBL1794324</td>\n",
       "      <td>F</td>\n",
       "      <td>8</td>\n",
       "      <td>NaN</td>\n",
       "      <td>103988</td>\n",
       "      <td>SINGLE PROTEIN</td>\n",
       "      <td>Mycobacterium tuberculosis</td>\n",
       "      <td>CHEMBL1741192</td>\n",
       "      <td>...</td>\n",
       "      <td>COC(=O)c1ccc(/N=C2\\C(Cl)=C(O)OC2OC(=O)c2ccccc2...</td>\n",
       "      <td>387.775</td>\n",
       "      <td>4.96</td>\n",
       "      <td>1</td>\n",
       "      <td>0</td>\n",
       "      <td>10.890</td>\n",
       "      <td>umol.L-1</td>\n",
       "      <td>AC50</td>\n",
       "      <td>=</td>\n",
       "      <td>4.962972</td>\n",
       "    </tr>\n",
       "  </tbody>\n",
       "</table>\n",
       "<p>1697 rows × 22 columns</p>\n",
       "</div>"
      ],
      "text/plain": [
       "       activity_id  assay_id assay_chembl_id assay_type  \\\n",
       "22496      6540023    752386   CHEMBL1794324          F   \n",
       "22497      6540024    752386   CHEMBL1794324          F   \n",
       "22498      6540025    752386   CHEMBL1794324          F   \n",
       "22499      6540026    752386   CHEMBL1794324          F   \n",
       "22500      6540027    752386   CHEMBL1794324          F   \n",
       "...            ...       ...             ...        ...   \n",
       "24642      6596119    752386   CHEMBL1794324          F   \n",
       "24645      6596122    752386   CHEMBL1794324          F   \n",
       "24646      6596123    752386   CHEMBL1794324          F   \n",
       "24647      6596124    752386   CHEMBL1794324          F   \n",
       "24648      6596125    752386   CHEMBL1794324          F   \n",
       "\n",
       "       assay_confidence_score assay_organism     tid     target_type  \\\n",
       "22496                       8            NaN  103988  SINGLE PROTEIN   \n",
       "22497                       8            NaN  103988  SINGLE PROTEIN   \n",
       "22498                       8            NaN  103988  SINGLE PROTEIN   \n",
       "22499                       8            NaN  103988  SINGLE PROTEIN   \n",
       "22500                       8            NaN  103988  SINGLE PROTEIN   \n",
       "...                       ...            ...     ...             ...   \n",
       "24642                       8            NaN  103988  SINGLE PROTEIN   \n",
       "24645                       8            NaN  103988  SINGLE PROTEIN   \n",
       "24646                       8            NaN  103988  SINGLE PROTEIN   \n",
       "24647                       8            NaN  103988  SINGLE PROTEIN   \n",
       "24648                       8            NaN  103988  SINGLE PROTEIN   \n",
       "\n",
       "                  target_organism target_chembl_id  ...  \\\n",
       "22496  Mycobacterium tuberculosis    CHEMBL1741192  ...   \n",
       "22497  Mycobacterium tuberculosis    CHEMBL1741192  ...   \n",
       "22498  Mycobacterium tuberculosis    CHEMBL1741192  ...   \n",
       "22499  Mycobacterium tuberculosis    CHEMBL1741192  ...   \n",
       "22500  Mycobacterium tuberculosis    CHEMBL1741192  ...   \n",
       "...                           ...              ...  ...   \n",
       "24642  Mycobacterium tuberculosis    CHEMBL1741192  ...   \n",
       "24645  Mycobacterium tuberculosis    CHEMBL1741192  ...   \n",
       "24646  Mycobacterium tuberculosis    CHEMBL1741192  ...   \n",
       "24647  Mycobacterium tuberculosis    CHEMBL1741192  ...   \n",
       "24648  Mycobacterium tuberculosis    CHEMBL1741192  ...   \n",
       "\n",
       "                                        canonical_smiles       MW pchembl  \\\n",
       "22496        Cn1c(=O)c([N+](=O)[O-])c(-n2ccnc2)c2ccccc21  270.248    5.18   \n",
       "22497            CCCCC(O)(CCCC)C(=O)NN(C(=O)CCl)c1ccccc1  354.878    4.82   \n",
       "22498                          COc1ccc(Nc2ccc(OC)cc2)cc1  229.279     NaN   \n",
       "22499  CCn1c(SCC(=O)Nc2nc(-c3ccc(C)cc3)cs2)nnc1-c1ccc...  451.577    5.46   \n",
       "22500                        O=C(Oc1ccc2ccccc2c1)c1ccco1  238.242    4.74   \n",
       "...                                                  ...      ...     ...   \n",
       "24642             O=S(=O)(CCSc1nc2ccccc2s1)c1nc2ccccc2s1  392.552    5.64   \n",
       "24645                       c1coc(-c2nnc(-c3ccco3)nn2)c1  214.184    5.24   \n",
       "24646                 COc1ccc(CC2=CC(=O)c3ccccc3C2=O)cc1  278.307    5.13   \n",
       "24647  COc1ccc(N=C(S)NC(NC(=O)CCl)C(Cl)(Cl)Cl)c([N+](...  450.131    4.54   \n",
       "24648  COC(=O)c1ccc(/N=C2\\C(Cl)=C(O)OC2OC(=O)c2ccccc2...  387.775    4.96   \n",
       "\n",
       "       activity_comment  standard_text    value      unit  activity_type  \\\n",
       "22496                 1              0    6.673  umol.L-1           AC50   \n",
       "22497                 1              0   15.040  umol.L-1           AC50   \n",
       "22498                 1              0  121.500  umol.L-1           AC50   \n",
       "22499                 1              0    3.460  umol.L-1           AC50   \n",
       "22500                 1              0   18.310  umol.L-1           AC50   \n",
       "...                 ...            ...      ...       ...            ...   \n",
       "24642                 1              0    2.291  umol.L-1           AC50   \n",
       "24645                 1              0    5.786  umol.L-1           AC50   \n",
       "24646                 1              0    7.490  umol.L-1           AC50   \n",
       "24647                 1              0   28.530  umol.L-1           AC50   \n",
       "24648                 1              0   10.890  umol.L-1           AC50   \n",
       "\n",
       "      relation pchembl_calculated  \n",
       "22496        =           5.175679  \n",
       "22497        =           4.822752  \n",
       "22498        =           3.915424  \n",
       "22499        =           5.460924  \n",
       "22500        =           4.737312  \n",
       "...        ...                ...  \n",
       "24642        =           5.639975  \n",
       "24645        =           5.237622  \n",
       "24646        =           5.125518  \n",
       "24647        =           4.544698  \n",
       "24648        =           4.962972  \n",
       "\n",
       "[1697 rows x 22 columns]"
      ]
     },
     "execution_count": 27,
     "metadata": {},
     "output_type": "execute_result"
    }
   ],
   "source": [
    "actives"
   ]
  },
  {
   "cell_type": "code",
   "execution_count": null,
   "id": "c62796c7",
   "metadata": {},
   "outputs": [],
   "source": [
    "plt.hist(assay_data['value'].tolist(), bins=[i for i in range(-200, 100, 5)])\n",
    "plt.show()"
   ]
  },
  {
   "cell_type": "code",
   "execution_count": null,
   "id": "46af87d6",
   "metadata": {},
   "outputs": [],
   "source": [
    "# Binarization\n",
    "\n",
    "# 1. Get direction\n",
    "# if dir_ == +1 ==> > are =, < are min\n",
    "# if dir_ == -1 ==> < are =, > are max\n",
    "\n",
    "# 2. "
   ]
  }
 ],
 "metadata": {
  "kernelspec": {
   "display_name": "camt",
   "language": "python",
   "name": "python3"
  },
  "language_info": {
   "codemirror_mode": {
    "name": "ipython",
    "version": 3
   },
   "file_extension": ".py",
   "mimetype": "text/x-python",
   "name": "python",
   "nbconvert_exporter": "python",
   "pygments_lexer": "ipython3",
   "version": "3.10.18"
  }
 },
 "nbformat": 4,
 "nbformat_minor": 5
}
