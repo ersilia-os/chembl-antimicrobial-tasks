{
 "cells": [
  {
   "cell_type": "code",
   "execution_count": 1,
   "id": "14619a71",
   "metadata": {},
   "outputs": [],
   "source": [
    "from collections import Counter\n",
    "from tqdm import tqdm\n",
    "import pandas as pd\n",
    "import numpy as np\n",
    "import ollama\n",
    "import os"
   ]
  },
  {
   "cell_type": "code",
   "execution_count": 2,
   "id": "3ce283b2",
   "metadata": {},
   "outputs": [
    {
     "name": "stdout",
     "output_type": "stream",
     "text": [
      "Loading ChEMBL preprocessed data...\n",
      "Original size: 24267312\n",
      "Filtering out nan values...\n",
      "Size after filtering nan values: 20911360\n"
     ]
    }
   ],
   "source": [
    "print(\"Loading ChEMBL preprocessed data...\")\n",
    "ChEMBL = pd.read_csv(\"../config/chembl_processed/activities_preprocessed.csv\", low_memory=False)\n",
    "print(f\"Original size: {len(ChEMBL)}\")\n",
    "print(\"Filtering out nan values...\")\n",
    "ChEMBL = ChEMBL[ChEMBL['value'].isna() == False].reset_index(drop=True)\n",
    "print(f\"Size after filtering nan values: {len(ChEMBL)}\")"
   ]
  },
  {
   "cell_type": "code",
   "execution_count": null,
   "id": "1a07f299",
   "metadata": {},
   "outputs": [],
   "source": [
    "# Get mtb data\n",
    "pathogen = \"Mycobacterium tuberculosis\"\n",
    "pathogen = \"plasmodium falciparum\"\n",
    "ChEMBL = ChEMBL[ChEMBL['target_organism'].str.contains(pathogen, case=False, na=False) | \n",
    "                ChEMBL['assay_organism'].str.contains(pathogen, case=False, na=False)].reset_index(drop=True)\n",
    "\n",
    "print(f\"Number of activities: {len(ChEMBL)}\")\n",
    "\n",
    "df = dict(Counter(ChEMBL['target_organism']))\n",
    "df = pd.DataFrame([[i, df[i]] for i in sorted(df, key = lambda x: df[x], reverse=True)], columns=['organism', 'count'])\n",
    "df"
   ]
  },
  {
   "cell_type": "code",
   "execution_count": null,
   "id": "a0829dca",
   "metadata": {},
   "outputs": [],
   "source": [
    "Counter(ChEMBL['assay_type'])"
   ]
  },
  {
   "cell_type": "code",
   "execution_count": null,
   "id": "d28fa3b2",
   "metadata": {},
   "outputs": [],
   "source": [
    "# # Get activities data\n",
    "# df = pd.read_csv(\"../config/chembl_activities/activities.csv\", low_memory=False)\n",
    "\n",
    "# # Assay id to doc id\n",
    "# assayid_to_docid = {i: j for i,j in zip(df['assay_id'], df['doc_id'])}\n",
    "\n",
    "# # Load dict target\n",
    "# df = pd.read_csv(\"../config/chembl_activities/target_dictionary.csv\", low_memory=False)\n",
    "\n",
    "# # ChEMBL ID to name\n",
    "# target_chemblid_to_name = {i: j for i,j in zip(df['chembl_id'], df['pref_name'])}"
   ]
  },
  {
   "cell_type": "code",
   "execution_count": null,
   "id": "7658a5f1",
   "metadata": {},
   "outputs": [],
   "source": [
    "# Helper function - is there only a single value?\n",
    "def only_one(values, name):\n",
    "    if len(values) != 1:\n",
    "        raise ValueError(f\"Expected exactly one {name}, found {values}\")\n",
    "    return values[0]"
   ]
  },
  {
   "cell_type": "code",
   "execution_count": null,
   "id": "7d629380",
   "metadata": {},
   "outputs": [],
   "source": [
    "assays = sorted(set(ChEMBL['assay_chembl_id']))"
   ]
  },
  {
   "cell_type": "code",
   "execution_count": null,
   "id": "78975ec8",
   "metadata": {},
   "outputs": [],
   "source": [
    "ASSAYS_INFO = []\n",
    "\n",
    "# For each assay\n",
    "for assay in tqdm(assays):\n",
    "\n",
    "    # Get subset of strain + assay data\n",
    "    df_ = ChEMBL[ChEMBL[\"assay_chembl_id\"] == assay]\n",
    "    \n",
    "    # Get values\n",
    "    assay_type = list(set(df_['assay_type']))\n",
    "    target_type = list(set(df_['target_type']))\n",
    "    target_chembl_id = list(set(df_['target_chembl_id']))\n",
    "    activity_types = list(set(df_['activity_type']))\n",
    "    target_organism = list(set(df_['target_organism']))\n",
    "    assay_organism = list(set(df_['assay_organism']))\n",
    "\n",
    "    # Check coherence\n",
    "    assay_type = only_one(assay_type, \"assay_type\")\n",
    "    target_type = only_one(target_type, \"target_type\")\n",
    "    target_chembl_id = only_one(target_chembl_id, \"target_chembl_id\")\n",
    "    target_organism = only_one(target_organism, \"target_organism\")\n",
    "    assay_organism = only_one(assay_organism, \"assay_organism\")\n",
    "\n",
    "    # For each activity type\n",
    "    for act_type in activity_types:\n",
    "\n",
    "        df__ = df_[df_[\"activity_type\"] == act_type]\n",
    "        activity_type = list(set(df__['activity_type']))\n",
    "        activity_type = only_one(activity_type, 'activity_type')\n",
    "        units = list(set(df__['unit']))\n",
    "\n",
    "        for u in units:\n",
    "            if type(u) != str:\n",
    "                df___ = df__[df__[\"unit\"].isna()]\n",
    "            else:\n",
    "                df___ = df__[df__[\"unit\"] == u]\n",
    "            unit = list(set(df___['unit']))\n",
    "            unit = only_one(unit, \"unit\")\n",
    "            activities = len(df___)\n",
    "            cpds = len(set(df___['compound_chembl_id']))\n",
    "            ASSAYS_INFO.append([assay, assay_type, assay_organism, target_type, target_chembl_id, target_organism, activity_type, unit, activities, cpds])\n",
    "\n",
    "ASSAYS_INFO = pd.DataFrame(ASSAYS_INFO, columns=[\"assay_id\", \"assay_type\", \"assay_organism\", \"target_type\", \"target_chembl_id\", \"target_organism\", \"activity_type\", \"unit\", \"activities\", \"cpds\"])\n",
    "ASSAYS_INFO = ASSAYS_INFO.sort_values('cpds', ascending=False).reset_index(drop=True)"
   ]
  },
  {
   "cell_type": "code",
   "execution_count": null,
   "id": "3ddabd42",
   "metadata": {},
   "outputs": [],
   "source": [
    "ASSAYS_INFO = ASSAYS_INFO[ASSAYS_INFO['cpds'] > 100].reset_index(drop=True)"
   ]
  },
  {
   "cell_type": "code",
   "execution_count": null,
   "id": "bf4a5c8f",
   "metadata": {},
   "outputs": [],
   "source": [
    "# target_dict = pd.read_csv(\"../config/chembl_activities/target_dictionary.csv\", low_memory=False)\n",
    "# chembl_id_to_pref_name = {i: j for i,j in zip(target_dict['chembl_id'], target_dict['pref_name'])}ç\n",
    "# ASSAYS_INFO['pref_name'] = [chembl_id_to_pref_name[i] if i in chembl_id_to_pref_name else np.nan for i in ASSAYS_INFO['target_chembl_id']]\n",
    "# chembl_uniprot_mapping = open(\"/home/acomajuncosa/Downloads/chembl_uniprot_mapping.txt\").readlines()[1:]\n",
    "# chembl_uniprot_mapping = {i.split(\"\\t\")[1]: i.split(\"\\t\")[0] for i in chembl_uniprot_mapping}\n",
    "# ASSAYS_INFO['uniprot'] = [chembl_uniprot_mapping[i] if i in chembl_uniprot_mapping else np.nan for i in ASSAYS_INFO['target_chembl_id']]\n",
    "# ASSAYS_INFO[ASSAYS_INFO['cpds'] > 100].reset_index(drop=True).to_csv(\"/home/acomajuncosa/Desktop/assays_info_falciparum.csv\", index=False)"
   ]
  },
  {
   "cell_type": "code",
   "execution_count": null,
   "id": "bd1239a5",
   "metadata": {},
   "outputs": [],
   "source": [
    "pathogen_code = str(pathogen.split()[0][0] + pathogen.split()[1]).lower()\n",
    "\n",
    "root = \".\"\n",
    "PATH_TO_OUTPUT = os.path.join(root, \"..\", \"output\", pathogen_code)\n",
    "os.makedirs(os.path.join(PATH_TO_OUTPUT, \"descriptions\"), exist_ok=True)\n",
    "ASSAYS_INFO.to_csv(os.path.join(PATH_TO_OUTPUT, 'assays.csv'), index=False)"
   ]
  },
  {
   "cell_type": "code",
   "execution_count": null,
   "id": "0bc35c9d",
   "metadata": {},
   "outputs": [],
   "source": [
    "# Load assays and docs information\n",
    "assays = pd.read_csv(\"../config/chembl_activities/assays.csv\", low_memory=False)\n",
    "docs = pd.read_csv(\"../config/chembl_activities/docs.csv\", low_memory=False)\n",
    "assay_type_map = {\"F\": \"Functional\",\"B\": \"Binding\",\"T\": \"Toxicity\",\"A\": \"ADME\",\"P\": \"Physicochemical\",\"U\": \"Uncategorized\"}"
   ]
  },
  {
   "cell_type": "code",
   "execution_count": null,
   "id": "0def18dd",
   "metadata": {},
   "outputs": [],
   "source": [
    "# for i in ASSAYS_INFO[['assay_type', 'assay_organism', 'target_type', 'target_organism', 'activity_type', 'unit', 'activities', 'cpds', 'assay_id']].values:\n",
    "    \n",
    "#     print(f\"Assay ChEMBL ID: {i[8]}\")\n",
    "#     print(f\"Assay type: {assay_type_map[i[0]]}\")\n",
    "#     print(f\"Assay organism: {i[1]}\")\n",
    "#     print(f\"Assay description: {assays[assays['chembl_id'] == i[8]]['description'].tolist()[0]}\")\n",
    "#     print(f\"Assay strain: {assays[assays['chembl_id'] == i[8]]['assay_strain'].tolist()[0]}\")\n",
    "#     print(f\"Assay category: {assays[assays['chembl_id'] == i[8]]['assay_category'].tolist()[0]}\")\n",
    "#     print(f\"Assay test type: {assays[assays['chembl_id'] == i[8]]['assay_test_type'].tolist()[0]}\")\n",
    "#     print(f\"Assay cell type: {assays[assays['chembl_id'] == i[8]]['assay_cell_type'].tolist()[0]}\")\n",
    "\n",
    "#     print(\" \")\n",
    "#     doc_id = assays[assays['chembl_id'] == i[8]]['doc_id'].tolist()[0]\n",
    "#     print(f\"Document title: {docs[docs['doc_id'] == doc_id]['title'].tolist()[0]}\")\n",
    "#     print(f\"Document abstract: {docs[docs['doc_id'] == doc_id]['abstract'].tolist()[0]}\")\n",
    "#     print(f\"Document journal: {docs[docs['doc_id'] == doc_id]['journal'].tolist()[0]}\")\n",
    "#     print(f\"Document PubMed ID: {docs[docs['doc_id'] == doc_id]['pubmed_id'].tolist()[0]}\")\n",
    "#     print(f\"Document DOI: {docs[docs['doc_id'] == doc_id]['doi'].tolist()[0]}\")\n",
    "\n",
    "#     print(\" \")\n",
    "#     print(f\"Target type: {i[2]}\")\n",
    "#     print(f\"Target Organism: {i[3]}\")\n",
    "\n",
    "#     print(\" \")\n",
    "#     print(f\"Activity Type: {i[4]}\")\n",
    "#     print(f\"Unit: {i[5]}\")\n",
    "#     print(f\"Number of activities: {i[6]}\")\n",
    "#     print(f\"Number of compounds: {i[7]}\")\n",
    "\n",
    "#     print(\" \")\n",
    "#     assay_activities = ChEMBL = ChEMBL[(ChEMBL['assay_chembl_id'] == i[8]) & (ChEMBL['activity_type'] == i[4]) & (ChEMBL['unit'] == i[5])]\n",
    "#     assay_activities = assay_activities[\"value\"].astype(float).tolist()\n",
    "#     print(f\"Percentile 1: {round(np.percentile(assay_activities, 1), 3)}\")\n",
    "#     print(f\"Percentile 25: {round(np.percentile(assay_activities, 25), 3)}\")\n",
    "#     print(f\"Mean: {round(np.mean(assay_activities), 3)}\")\n",
    "#     print(f\"Median: {round(np.percentile(assay_activities, 50), 3)}\")\n",
    "#     print(f\"Percentile 75: {round(np.percentile(assay_activities, 75), 3)}\")\n",
    "#     print(f\"Percentile 99: {round(np.percentile(assay_activities, 99), 3)}\")\n",
    "\n",
    "#     break"
   ]
  },
  {
   "cell_type": "code",
   "execution_count": null,
   "id": "403e7b5f",
   "metadata": {},
   "outputs": [],
   "source": [
    "SYSTEM = \"\"\"\n",
    "You are a ChEMBL biodata curator. Your task is to write a complete, accurate and standardized description of a given biological assay.\n",
    "\n",
    "Formatting instructions:\n",
    "- The description must be structured into three paragraphs (enumerated below), each of 80-120 words.\n",
    "- Each paragraph must begin with a bold markdown title in the exact format:\n",
    "  **1. Assay description**\\n\n",
    "  **2. Outcome interpretation**\\n\n",
    "  **3. Results and insights**\\n\n",
    "- The assay description paragraph must explain the objective of the assay, the experimental system, and methodology. Specify the biological target, assay format (e.g., cell-based, binding), detection method, and any relevant experimental conditions (e.g., temperature, compound concentration).\n",
    "- The outcome interpretation paragraph must describe how assay outputs are measured and interpreted. Specify how results relate to biological activity or target modulation, the direction of the biological activity (-1 if lower values lead to higher activity e.g., IC50; +1 if higher values result in higher activity e.g., percent. inhibition or effect; 0 if it’s inconclusive, e.g., clearance or solubility), controls, reference compounds, signal thresholds and normalization steps.\n",
    "- The results and insights paragraph must summarize typical activity ranges, notable behaviors (e.g., agonists, inhibitors), data quality and curation notes that support integration and reproducibility. Highlight meaningful observations from the distribution of activity data. It must be coherent with the outcome interpretation paragraph.\n",
    "- Separate paragraphs with a single blank line.\n",
    "- Use only standard ASCII spacing for all numbers, units, and symbols.\n",
    "- Insert commas in numbers when necessary (e.g., 1,000; 100,000).\n",
    "- Do not insert non-breaking spaces, narrow spaces, or special typographic characters.\n",
    "- Do not use tables or hidden formatting.\n",
    "- Use scientific and formal language.\n",
    "- Avoid speculation, informal expressions or fabricated information.\n",
    "- If any relevant data is missing (reported as ‘nan’), state “not reported” rather than inventing details.\n",
    "- Do NOT write Q&A, lists, bullets, or add any heading besides the three above.\n",
    "- Do not use thinking mode.\n",
    "\n",
    "\"\"\""
   ]
  },
  {
   "cell_type": "code",
   "execution_count": null,
   "id": "e54bafbb",
   "metadata": {},
   "outputs": [],
   "source": [
    "for i in ASSAYS_INFO[['assay_type', 'assay_organism', 'target_type', 'target_organism', 'activity_type', 'unit', 'activities', 'cpds', 'assay_id']].values[:10]:\n",
    "\n",
    "    assay_id = i[8]\n",
    "    doc_id = assays[assays['chembl_id'] == assay_id]['doc_id'].tolist()[0]\n",
    "    assay_activities = ChEMBL[(ChEMBL['assay_chembl_id'] == assay_id) &(ChEMBL['activity_type'] == i[4]) &(ChEMBL['unit'] == i[5])][\"value\"].astype(float).tolist()\n",
    "\n",
    "    result = {\n",
    "        \"Assay ChEMBL ID\": assay_id,\n",
    "        \"Assay type\": assay_type_map[i[0]],\n",
    "        \"Assay organism\": i[1],\n",
    "        \"Assay description\": assays[assays['chembl_id'] == assay_id]['description'].tolist()[0],\n",
    "        \"Assay strain\": assays[assays['chembl_id'] == assay_id]['assay_strain'].tolist()[0],\n",
    "        \"Assay category\": assays[assays['chembl_id'] == assay_id]['assay_category'].tolist()[0],\n",
    "        \"Assay test type\": assays[assays['chembl_id'] == assay_id]['assay_test_type'].tolist()[0],\n",
    "        \"Assay cell type\": assays[assays['chembl_id'] == assay_id]['assay_cell_type'].tolist()[0],\n",
    "        \"Document title\": docs[docs['doc_id'] == doc_id]['title'].tolist()[0],\n",
    "        \"Document abstract\": docs[docs['doc_id'] == doc_id]['abstract'].tolist()[0],\n",
    "        \"Document journal\": docs[docs['doc_id'] == doc_id]['journal'].tolist()[0],\n",
    "        \"Document PubMed ID\": docs[docs['doc_id'] == doc_id]['pubmed_id'].tolist()[0],\n",
    "        \"Document DOI\": docs[docs['doc_id'] == doc_id]['doi'].tolist()[0],\n",
    "        \"Target type\": i[2],\n",
    "        \"Target organism\": i[3],\n",
    "        \"Activity type\": i[4],\n",
    "        \"Unit\": i[5],\n",
    "        \"Number of activities\": i[6],\n",
    "        \"Number of compounds\": i[7],\n",
    "        \"Stats\": {\n",
    "            \"Percentile 1\": round(np.percentile(assay_activities, 1), 3),\n",
    "            \"Percentile 25\": round(np.percentile(assay_activities, 25), 3),\n",
    "            \"Mean\": round(np.mean(assay_activities), 3),\n",
    "            \"Median\": round(np.percentile(assay_activities, 50), 3),\n",
    "            \"Percentile 75\": round(np.percentile(assay_activities, 75), 3),\n",
    "            \"Percentile 99\": round(np.percentile(assay_activities, 99), 3)\n",
    "        }\n",
    "    }\n",
    "\n",
    "    result = \"\\n\".join([i + \": \" + str(result[i]) for i in result])\n",
    "    USER = f\"\"\"Below you will find enumerated annotations from the assay under study.\\n\\n{result}\\n\\nUsing the information provided, return a standardized description for the assay.\"\"\"\n",
    "\n",
    "    # Print data\n",
    "    with open(os.path.join(PATH_TO_OUTPUT, \"descriptions\", f\"{assay_id}_input.txt\"), \"w\") as f:\n",
    "        f.write(USER)\n",
    "    \n",
    "    # # Non streaming call\n",
    "    # import ollama\n",
    "    # response = ollama.chat(model='gpt-oss:20b', \n",
    "    #                        messages=[{\"role\": \"system\", \"content\": SYSTEM}, {\"role\": \"user\", \"content\": USER}],\n",
    "    #                        options={\"temperature\": 0.2, \"num_ctx\": 4096, \"num_predict\": 5000})\n",
    "    response = ollama.generate(model='gpt-oss:20b', prompt=SYSTEM + USER, stream=False, think=True)\n",
    "\n",
    "    # Print response\n",
    "    with open(os.path.join(PATH_TO_OUTPUT, \"descriptions\", f\"{assay_id}_output.txt\"), \"w\") as f:\n",
    "        f.write(response.response)\n",
    "\n",
    "    print(f\"✓ Completed {assay_id}\")\n"
   ]
  },
  {
   "cell_type": "code",
   "execution_count": null,
   "id": "a4e2157c",
   "metadata": {},
   "outputs": [],
   "source": []
  }
 ],
 "metadata": {
  "kernelspec": {
   "display_name": "camt",
   "language": "python",
   "name": "python3"
  },
  "language_info": {
   "codemirror_mode": {
    "name": "ipython",
    "version": 3
   },
   "file_extension": ".py",
   "mimetype": "text/x-python",
   "name": "python",
   "nbconvert_exporter": "python",
   "pygments_lexer": "ipython3",
   "version": "3.10.18"
  }
 },
 "nbformat": 4,
 "nbformat_minor": 5
}
